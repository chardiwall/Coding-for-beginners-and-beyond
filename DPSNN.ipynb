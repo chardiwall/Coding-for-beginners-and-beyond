{
  "nbformat": 4,
  "nbformat_minor": 0,
  "metadata": {
    "colab": {
      "provenance": [],
      "gpuType": "T4",
      "include_colab_link": true
    },
    "kernelspec": {
      "name": "python3",
      "display_name": "Python 3"
    },
    "language_info": {
      "name": "python"
    },
    "accelerator": "GPU"
  },
  "cells": [
    {
      "cell_type": "markdown",
      "metadata": {
        "id": "view-in-github",
        "colab_type": "text"
      },
      "source": [
        "<a href=\"https://colab.research.google.com/github/chardiwall/Coding-for-beginners-and-beyond/blob/main/DPSNN.ipynb\" target=\"_parent\"><img src=\"https://colab.research.google.com/assets/colab-badge.svg\" alt=\"Open In Colab\"/></a>"
      ]
    },
    {
      "cell_type": "markdown",
      "source": [
        "# Project Discription\n",
        "**Title:** DPSNN (A Differentially Private Spiking Neural Network with Temporal Enhanced Polling).\n",
        "\n",
        "**Objectives:** Implementation of the [paper](https://arxiv.org/pdf/2205.12718.pdf).\n",
        "\n",
        "**Discription:** The project is set in the context of the growing field of social robotics, which involves the deployment of robots in human-centric environments. These environments can range from healthcare facilities and educational institutions to customer service and domestic settings. The unique aspect of this project lies in its focus on privacy-preserving mechanisms, an increasingly critical concern in today's data-driven world.\n",
        "\n",
        "---\n",
        "\n",
        "SNN framwork: [SNNTorch](https://snntorch.readthedocs.io/en/latest/)\n",
        "\n",
        "DP framwork: [Opacus](https://github.com/pytorch/opacus)\n",
        "\n",
        "---\n",
        "Datasets\n",
        "- Neuromorphic DataSets:\n",
        "  - [N-MNIST](https://www.garrickorchard.com/datasets/n-mnist#h.p_ID_38)\n",
        "  - [CIFAR10-DVS](https://figshare.com/articles/dataset/CIFAR10-DVS_New/4724671/2)\n",
        "\n",
        "- Static Datasets:\n",
        "  - [MNIST](https://yann.lecun.com/exdb/mnist/)\n",
        "  - [CIFAR10](https://www.cs.toronto.edu/~kriz/cifar.html)\n"
      ],
      "metadata": {
        "id": "9TwYDVep0-oO"
      }
    },
    {
      "cell_type": "markdown",
      "source": [
        "# Loading Essential Libraries"
      ],
      "metadata": {
        "id": "WFHM-9gk2Bug"
      }
    },
    {
      "cell_type": "code",
      "source": [
        "# !pip install -q braincog\n",
        "# # additional dependencies for working with neuromorphic data.\n",
        "# !pip install git+https://github.com/BrainCog-X/tonic_braincog.git\n",
        "\n",
        "# !pip install -q opacus\n",
        "!pip install -q snntorch"
      ],
      "metadata": {
        "colab": {
          "base_uri": "https://localhost:8080/"
        },
        "id": "HEGy77YL3Aug",
        "outputId": "5bc802bc-52a0-4912-efef-bb04cdea5350"
      },
      "execution_count": null,
      "outputs": [
        {
          "output_type": "stream",
          "name": "stdout",
          "text": [
            "\u001b[2K     \u001b[90m━━━━━━━━━━━━━━━━━━━━━━━━━━━━━━━━━━━━━━━━\u001b[0m \u001b[32m109.0/109.0 kB\u001b[0m \u001b[31m2.0 MB/s\u001b[0m eta \u001b[36m0:00:00\u001b[0m\n",
            "\u001b[2K     \u001b[90m━━━━━━━━━━━━━━━━━━━━━━━━━━━━━━━━━━━━━━━━\u001b[0m \u001b[32m76.2/76.2 kB\u001b[0m \u001b[31m8.8 MB/s\u001b[0m eta \u001b[36m0:00:00\u001b[0m\n",
            "\u001b[?25h"
          ]
        }
      ]
    },
    {
      "cell_type": "code",
      "source": [
        "# Mounting Google Drive as drive\n",
        "from google.colab import drive\n",
        "drive.mount('drive')"
      ],
      "metadata": {
        "colab": {
          "base_uri": "https://localhost:8080/"
        },
        "id": "VGWhf2je6V0i",
        "outputId": "12388849-2210-4df1-926b-4b9b5e6ab489"
      },
      "execution_count": null,
      "outputs": [
        {
          "output_type": "stream",
          "name": "stdout",
          "text": [
            "Drive already mounted at drive; to attempt to forcibly remount, call drive.mount(\"drive\", force_remount=True).\n"
          ]
        }
      ]
    },
    {
      "cell_type": "code",
      "source": [
        "import os\n",
        "import sys\n",
        "import tqdm\n",
        "import itertools\n",
        "from glob import glob\n",
        "from zipfile import ZipFile\n",
        "\n",
        "import numpy as np\n",
        "import matplotlib.pyplot as plt\n",
        "\n",
        "import seaborn as sns\n",
        "\n",
        "import torch\n",
        "from torch import nn\n",
        "from torch.utils.data import Dataset, DataLoader\n",
        "\n",
        "from torchvision import datasets, transforms\n",
        "\n",
        "# imports\n",
        "import snntorch as snn\n",
        "from snntorch import surrogate\n",
        "from snntorch import backprop\n",
        "from snntorch import functional as SF\n",
        "from snntorch import utils\n",
        "from snntorch import spikeplot as splt\n",
        "\n",
        "import torch\n",
        "import torch.nn as nn\n",
        "from torch.utils.data import DataLoader\n",
        "from torchvision import datasets, transforms\n",
        "import torch.nn.functional as F\n",
        "\n",
        "import matplotlib.pyplot as plt\n",
        "import numpy as np\n",
        "import itertools\n",
        "\n",
        "BATCH_SIZE = 64\n",
        "DEVICE = 'cpu'"
      ],
      "metadata": {
        "id": "V3pG9qP43SUH",
        "colab": {
          "base_uri": "https://localhost:8080/"
        },
        "outputId": "3132a69f-26e5-49d9-92a3-e474244be012"
      },
      "execution_count": null,
      "outputs": [
        {
          "output_type": "stream",
          "name": "stderr",
          "text": [
            "<ipython-input-2-da00e9a03b38>:22: DeprecationWarning: The module snntorch.backprop will be deprecated in  a future release. Writing out your own training loop will lead to substantially faster performance.\n",
            "  from snntorch import backprop\n"
          ]
        }
      ]
    },
    {
      "cell_type": "markdown",
      "source": [
        "# Unzipping and Loading Data"
      ],
      "metadata": {
        "id": "I20KiteW3n1F"
      }
    },
    {
      "cell_type": "markdown",
      "source": [
        "## Neuromorphic Data"
      ],
      "metadata": {
        "id": "xV4NAFuU3sAr"
      }
    },
    {
      "cell_type": "code",
      "source": [
        "# N-MNIST\n",
        "\n",
        "# unzipping the data\n",
        "base_dir_path = '/content/drive/MyDrive/Colab Notebooks/DPSNN/N-MNIST/'\n",
        "train_zip_name = 'Copy of Train'\n",
        "test_zip_name = 'Copy of Test'\n",
        "\n",
        "for zip_file in [train_zip_name, test_zip_name]:\n",
        "  zip_path = os.path.join(base_dir_path, zip_file+'.zip')\n",
        "\n",
        "  with ZipFile(zip_path, 'r') as zip_ref:\n",
        "    # extraction_path = os.path.join(base_dir_path, zip_file)\n",
        "    # if not (os.path.exists(extraction_path)):\n",
        "    #   os.mkdir(extraction_path)\n",
        "    zip_ref.extractall(base_dir_path)\n"
      ],
      "metadata": {
        "id": "3qBkFa3i3y3d"
      },
      "execution_count": null,
      "outputs": []
    },
    {
      "cell_type": "code",
      "source": [
        "# N-MNIST LOADING\n",
        "# class N_Mnist_Data(Dataset):\n",
        "#   def __init__(self, dir, transform = None):\n",
        "#     self.dir = dir\n",
        "#     self.transform = transform\n",
        "\n",
        "#   def __len__(self):\n",
        "#     return len(os.listdir(self.dir))\n",
        "\n",
        "#   def __getitem__(self, index):\n",
        "\n",
        "\n"
      ],
      "metadata": {
        "id": "0upjzbEjZvcQ"
      },
      "execution_count": null,
      "outputs": []
    },
    {
      "cell_type": "code",
      "source": [
        "# CIFAR10-DVS\n",
        "base_dir_path = '/content/drive/MyDrive/Colab Notebooks/DPSNN/CIFAR10-DVS'\n",
        "file_name = 'CIFAR10-DVS.zip'\n",
        "\n",
        "with ZipFile(os.path.join(base_dir_path, file_name), 'r') as zip_ref:\n",
        "  zip_ref.extractall(base_dir_path)"
      ],
      "metadata": {
        "id": "WEntHGB87KkU"
      },
      "execution_count": null,
      "outputs": []
    },
    {
      "cell_type": "markdown",
      "source": [
        "## Static Data"
      ],
      "metadata": {
        "id": "eRVHqqevWViG"
      }
    },
    {
      "cell_type": "code",
      "source": [
        "# Transforming Data\n",
        "transform = transforms.Compose([\n",
        "    transforms.Resize((28, 28)),\n",
        "    transforms.Grayscale(),\n",
        "    transforms.ToTensor(),\n",
        "    transforms.Normalize((0,), (1,))\n",
        "])"
      ],
      "metadata": {
        "id": "ch_x7pES-wdI"
      },
      "execution_count": null,
      "outputs": []
    },
    {
      "cell_type": "code",
      "source": [
        "# MNIST\n",
        "mnist_train = datasets.MNIST(root = '.', train=True, transform=transform, download=True)\n",
        "mnist_test = datasets.MNIST(root = '.', train=False, transform=transform, download=True)\n",
        "\n",
        "train_loader = DataLoader(mnist_train, batch_size= BATCH_SIZE, shuffle=True)\n",
        "test_loader = DataLoader(mnist_test, batch_size= BATCH_SIZE, shuffle=True)"
      ],
      "metadata": {
        "id": "iXiXj01KXpfT",
        "colab": {
          "base_uri": "https://localhost:8080/"
        },
        "outputId": "304a933d-1f5e-4dc4-89ff-fd357a8398a1"
      },
      "execution_count": null,
      "outputs": [
        {
          "output_type": "stream",
          "name": "stdout",
          "text": [
            "Downloading http://yann.lecun.com/exdb/mnist/train-images-idx3-ubyte.gz\n",
            "Downloading http://yann.lecun.com/exdb/mnist/train-images-idx3-ubyte.gz to ./MNIST/raw/train-images-idx3-ubyte.gz\n"
          ]
        },
        {
          "output_type": "stream",
          "name": "stderr",
          "text": [
            "100%|██████████| 9912422/9912422 [00:00<00:00, 255941882.30it/s]"
          ]
        },
        {
          "output_type": "stream",
          "name": "stdout",
          "text": [
            "Extracting ./MNIST/raw/train-images-idx3-ubyte.gz to ./MNIST/raw\n"
          ]
        },
        {
          "output_type": "stream",
          "name": "stderr",
          "text": [
            "\n"
          ]
        },
        {
          "output_type": "stream",
          "name": "stdout",
          "text": [
            "\n",
            "Downloading http://yann.lecun.com/exdb/mnist/train-labels-idx1-ubyte.gz\n",
            "Downloading http://yann.lecun.com/exdb/mnist/train-labels-idx1-ubyte.gz to ./MNIST/raw/train-labels-idx1-ubyte.gz\n"
          ]
        },
        {
          "output_type": "stream",
          "name": "stderr",
          "text": [
            "100%|██████████| 28881/28881 [00:00<00:00, 96753749.06it/s]\n"
          ]
        },
        {
          "output_type": "stream",
          "name": "stdout",
          "text": [
            "Extracting ./MNIST/raw/train-labels-idx1-ubyte.gz to ./MNIST/raw\n",
            "\n",
            "Downloading http://yann.lecun.com/exdb/mnist/t10k-images-idx3-ubyte.gz\n",
            "Downloading http://yann.lecun.com/exdb/mnist/t10k-images-idx3-ubyte.gz to ./MNIST/raw/t10k-images-idx3-ubyte.gz\n"
          ]
        },
        {
          "output_type": "stream",
          "name": "stderr",
          "text": [
            "100%|██████████| 1648877/1648877 [00:00<00:00, 147485528.38it/s]"
          ]
        },
        {
          "output_type": "stream",
          "name": "stdout",
          "text": [
            "Extracting ./MNIST/raw/t10k-images-idx3-ubyte.gz to ./MNIST/raw\n"
          ]
        },
        {
          "output_type": "stream",
          "name": "stderr",
          "text": [
            "\n"
          ]
        },
        {
          "output_type": "stream",
          "name": "stdout",
          "text": [
            "\n",
            "Downloading http://yann.lecun.com/exdb/mnist/t10k-labels-idx1-ubyte.gz\n",
            "Downloading http://yann.lecun.com/exdb/mnist/t10k-labels-idx1-ubyte.gz to ./MNIST/raw/t10k-labels-idx1-ubyte.gz\n"
          ]
        },
        {
          "output_type": "stream",
          "name": "stderr",
          "text": [
            "100%|██████████| 4542/4542 [00:00<00:00, 15955216.72it/s]"
          ]
        },
        {
          "output_type": "stream",
          "name": "stdout",
          "text": [
            "Extracting ./MNIST/raw/t10k-labels-idx1-ubyte.gz to ./MNIST/raw\n",
            "\n"
          ]
        },
        {
          "output_type": "stream",
          "name": "stderr",
          "text": [
            "\n"
          ]
        }
      ]
    },
    {
      "cell_type": "code",
      "source": [
        "# CIFAR10\n",
        "cifar10_train = datasets.CIFAR10('.', train = True, transform = transform, download = True)\n",
        "cifar10_test = datasets.CIFAR10('.', train = False, transform = transform, download = True)"
      ],
      "metadata": {
        "colab": {
          "base_uri": "https://localhost:8080/"
        },
        "id": "HwQRl7s5V87A",
        "outputId": "1b9a8df0-7242-41f8-8282-47946855923d"
      },
      "execution_count": null,
      "outputs": [
        {
          "output_type": "stream",
          "name": "stdout",
          "text": [
            "Downloading https://www.cs.toronto.edu/~kriz/cifar-10-python.tar.gz to ./cifar-10-python.tar.gz\n"
          ]
        },
        {
          "output_type": "stream",
          "name": "stderr",
          "text": [
            "100%|██████████| 170498071/170498071 [00:03<00:00, 54271524.85it/s]\n"
          ]
        },
        {
          "output_type": "stream",
          "name": "stdout",
          "text": [
            "Extracting ./cifar-10-python.tar.gz to .\n",
            "Files already downloaded and verified\n"
          ]
        }
      ]
    },
    {
      "cell_type": "markdown",
      "source": [
        "# Building SNN"
      ],
      "metadata": {
        "id": "ThWOqbh5ZfDN"
      }
    },
    {
      "cell_type": "code",
      "source": [
        "# neuron and simulation parameters\n",
        "spike_grad = surrogate.fast_sigmoid(slope=25)\n",
        "beta = 0.5\n",
        "num_steps = 50"
      ],
      "metadata": {
        "id": "dziPRj4CVO87"
      },
      "execution_count": null,
      "outputs": []
    },
    {
      "cell_type": "code",
      "source": [
        "# dataloader arguments\n",
        "batch_size = 128\n",
        "\n",
        "dtype = torch.float\n",
        "device = torch.device(\"cuda\") if torch.cuda.is_available() else torch.device(\"cpu\")"
      ],
      "metadata": {
        "id": "m4YekVzlEl47"
      },
      "execution_count": null,
      "outputs": []
    },
    {
      "cell_type": "code",
      "source": [
        "# Define Network\n",
        "class Net(nn.Module):\n",
        "    def __init__(self):\n",
        "        super().__init__()\n",
        "\n",
        "        # Initialize layers\n",
        "        self.conv1 = nn.Conv2d(1, 12, 5)\n",
        "        self.lif1 = snn.Leaky(beta=beta, spike_grad=spike_grad)\n",
        "        self.conv2 = nn.Conv2d(12, 64, 5)\n",
        "        self.lif2 = snn.Leaky(beta=beta, spike_grad=spike_grad)\n",
        "        self.fc1 = nn.Linear(64*4*4, 10)\n",
        "        self.lif3 = snn.Leaky(beta=beta, spike_grad=spike_grad)\n",
        "\n",
        "    def forward(self, x):\n",
        "\n",
        "        # Initialize hidden states and outputs at t=0\n",
        "        mem1 = self.lif1.init_leaky()\n",
        "        mem2 = self.lif2.init_leaky()\n",
        "        mem3 = self.lif3.init_leaky()\n",
        "\n",
        "        cur1 = F.max_pool2d(self.conv1(x), 2)\n",
        "        spk1, mem1 = self.lif1(cur1, mem1)\n",
        "\n",
        "        cur2 = F.max_pool2d(self.conv2(spk1), 2)\n",
        "        spk2, mem2 = self.lif2(cur2, mem2)\n",
        "\n",
        "        cur3 = self.fc1(spk2.view(batch_size, -1))\n",
        "        spk3, mem3 = self.lif3(cur3, mem3)\n",
        "        return spk3, mem3"
      ],
      "metadata": {
        "id": "p-BFvt6Zb4xs"
      },
      "execution_count": null,
      "outputs": []
    },
    {
      "cell_type": "code",
      "source": [
        "#  Initialize Network\n",
        "net = nn.Sequential(nn.Conv2d(1, 12, 5),\n",
        "                    nn.MaxPool2d(2),\n",
        "                    snn.Leaky(beta=beta, spike_grad=spike_grad, init_hidden=True),\n",
        "                    nn.Conv2d(12, 64, 5),\n",
        "                    nn.MaxPool2d(2),\n",
        "                    snn.Leaky(beta=beta, spike_grad=spike_grad, init_hidden=True),\n",
        "                    nn.Flatten(),\n",
        "                    nn.Linear(64*4*4, 10),\n",
        "                    snn.Leaky(beta=beta, spike_grad=spike_grad, init_hidden=True, output=True)\n",
        "                    ).to(device)"
      ],
      "metadata": {
        "id": "E9qWJElJGNC_"
      },
      "execution_count": null,
      "outputs": []
    },
    {
      "cell_type": "code",
      "source": [
        "data, targets = next(iter(train_loader))\n",
        "data = data.to(device)\n",
        "targets = targets.to(device)\n",
        "\n",
        "for step in range(num_steps):\n",
        "    spk_out, mem_out = net(data)"
      ],
      "metadata": {
        "id": "DetCgr_YGK5e"
      },
      "execution_count": null,
      "outputs": []
    },
    {
      "cell_type": "code",
      "source": [
        "def forward_pass(net, num_steps, data):\n",
        "  mem_rec = []\n",
        "  spk_rec = []\n",
        "  utils.reset(net)  # resets hidden states for all LIF neurons in net\n",
        "\n",
        "  for step in range(num_steps):\n",
        "      spk_out, mem_out = net(data)\n",
        "      spk_rec.append(spk_out)\n",
        "      mem_rec.append(mem_out)\n",
        "\n",
        "  return torch.stack(spk_rec), torch.stack(mem_rec)"
      ],
      "metadata": {
        "id": "UVo9kBlzGUuC"
      },
      "execution_count": null,
      "outputs": []
    },
    {
      "cell_type": "code",
      "source": [
        "spk_rec, mem_rec = forward_pass(net, num_steps, data)"
      ],
      "metadata": {
        "id": "Uq_rJFljGZFH"
      },
      "execution_count": null,
      "outputs": []
    },
    {
      "cell_type": "code",
      "source": [
        "# already imported snntorch.functional as SF\n",
        "loss_fn = SF.ce_rate_loss()\n",
        "\n",
        "loss_val = loss_fn(spk_rec, targets)\n",
        "\n",
        "print(f\"The loss from an untrained network is {loss_val.item():.3f}\")"
      ],
      "metadata": {
        "id": "dqKM797Gb-jQ",
        "colab": {
          "base_uri": "https://localhost:8080/"
        },
        "outputId": "c538cc3b-70b6-4c50-d077-db7a11467fac"
      },
      "execution_count": null,
      "outputs": [
        {
          "output_type": "stream",
          "name": "stdout",
          "text": [
            "The loss from an untrained network is 2.303\n"
          ]
        }
      ]
    },
    {
      "cell_type": "code",
      "source": [
        "acc = SF.accuracy_rate(spk_rec, targets)\n",
        "\n",
        "print(f\"The accuracy of a single batch using an untrained network is {acc*100:.3f}%\")"
      ],
      "metadata": {
        "id": "e5EN4H1VcAIH",
        "colab": {
          "base_uri": "https://localhost:8080/"
        },
        "outputId": "86d291b0-53dd-4d5b-ff87-5d9019bffcf5"
      },
      "execution_count": null,
      "outputs": [
        {
          "output_type": "stream",
          "name": "stdout",
          "text": [
            "The accuracy of a single batch using an untrained network is 14.062%\n"
          ]
        }
      ]
    },
    {
      "cell_type": "code",
      "source": [
        "def batch_accuracy(train_loader, net, num_steps):\n",
        "  with torch.no_grad():\n",
        "    total = 0\n",
        "    acc = 0\n",
        "    net.eval()\n",
        "\n",
        "    train_loader = iter(train_loader)\n",
        "    for data, targets in train_loader:\n",
        "      data = data.to(device)\n",
        "      targets = targets.to(device)\n",
        "      spk_rec, _ = forward_pass(net, num_steps, data)\n",
        "\n",
        "      acc += SF.accuracy_rate(spk_rec, targets) * spk_rec.size(1)\n",
        "      total += spk_rec.size(1)\n",
        "\n",
        "  return acc/total"
      ],
      "metadata": {
        "id": "AZXtGDZKUw9_"
      },
      "execution_count": null,
      "outputs": []
    },
    {
      "cell_type": "code",
      "source": [
        "test_acc = batch_accuracy(test_loader, net, num_steps)\n",
        "\n",
        "print(f\"The total accuracy on the test set is: {test_acc * 100:.2f}%\")"
      ],
      "metadata": {
        "id": "GVw3lLOSZtCy",
        "colab": {
          "base_uri": "https://localhost:8080/"
        },
        "outputId": "232be7d1-7794-4698-a9b9-a8b534bd1965"
      },
      "execution_count": null,
      "outputs": [
        {
          "output_type": "stream",
          "name": "stdout",
          "text": [
            "The total accuracy on the test set is: 9.80%\n"
          ]
        }
      ]
    },
    {
      "cell_type": "code",
      "source": [
        "optimizer = torch.optim.Adam(net.parameters(), lr=1e-2, betas=(0.9, 0.999))\n",
        "num_epochs = 1\n",
        "loss_hist = []\n",
        "test_acc_hist = []\n",
        "counter = 0\n",
        "\n",
        "# Outer training loop\n",
        "for epoch in range(num_epochs):\n",
        "\n",
        "    # Training loop\n",
        "    for data, targets in iter(train_loader):\n",
        "        data = data.to(device)\n",
        "        targets = targets.to(device)\n",
        "\n",
        "        # forward pass\n",
        "        net.train()\n",
        "        spk_rec, _ = forward_pass(net, num_steps, data)\n",
        "\n",
        "        # initialize the loss & sum over time\n",
        "        loss_val = loss_fn(spk_rec, targets)\n",
        "\n",
        "        # Gradient calculation + weight update\n",
        "        optimizer.zero_grad()\n",
        "        loss_val.backward()\n",
        "        optimizer.step()\n",
        "\n",
        "        # Store loss history for future plotting\n",
        "        loss_hist.append(loss_val.item())\n",
        "\n",
        "        # Test set\n",
        "        if counter % 50 == 0:\n",
        "          with torch.no_grad():\n",
        "              net.eval()\n",
        "\n",
        "              # Test set forward pass\n",
        "              test_acc = batch_accuracy(test_loader, net, num_steps)\n",
        "              print(f\"Iteration {counter}, Test Acc: {test_acc * 100:.2f}%\\n\")\n",
        "              test_acc_hist.append(test_acc.item())\n",
        "\n",
        "        counter += 1"
      ],
      "metadata": {
        "id": "ZjZVv1hFZv9T",
        "colab": {
          "base_uri": "https://localhost:8080/"
        },
        "outputId": "48aee6eb-54dc-48a0-e9dc-e2cbdd36f018"
      },
      "execution_count": null,
      "outputs": [
        {
          "output_type": "stream",
          "name": "stdout",
          "text": [
            "Iteration 0, Test Acc: 9.80%\n",
            "\n",
            "Iteration 50, Test Acc: 85.22%\n",
            "\n",
            "Iteration 100, Test Acc: 93.76%\n",
            "\n",
            "Iteration 150, Test Acc: 94.97%\n",
            "\n",
            "Iteration 200, Test Acc: 95.48%\n",
            "\n",
            "Iteration 250, Test Acc: 94.29%\n",
            "\n",
            "Iteration 300, Test Acc: 96.86%\n",
            "\n",
            "Iteration 350, Test Acc: 97.03%\n",
            "\n",
            "Iteration 400, Test Acc: 96.72%\n",
            "\n",
            "Iteration 450, Test Acc: 96.73%\n",
            "\n",
            "Iteration 500, Test Acc: 95.92%\n",
            "\n",
            "Iteration 550, Test Acc: 96.33%\n",
            "\n",
            "Iteration 600, Test Acc: 97.34%\n",
            "\n",
            "Iteration 650, Test Acc: 96.40%\n",
            "\n",
            "Iteration 700, Test Acc: 97.19%\n",
            "\n",
            "Iteration 750, Test Acc: 96.50%\n",
            "\n",
            "Iteration 800, Test Acc: 97.00%\n",
            "\n",
            "Iteration 850, Test Acc: 97.55%\n",
            "\n",
            "Iteration 900, Test Acc: 97.11%\n",
            "\n"
          ]
        }
      ]
    },
    {
      "cell_type": "code",
      "source": [
        "# Plot Loss\n",
        "fig = plt.figure(facecolor=\"w\")\n",
        "plt.plot(test_acc_hist)\n",
        "plt.title(\"Test Set Accuracy\")\n",
        "plt.xlabel(\"Epoch\")\n",
        "plt.ylabel(\"Accuracy\")\n",
        "plt.show()"
      ],
      "metadata": {
        "colab": {
          "base_uri": "https://localhost:8080/"
        },
        "id": "ZrNVSJpaFE2b",
        "outputId": "fb9174b4-82f3-43a1-cced-4189194458a0"
      },
      "execution_count": null,
      "outputs": [
        {
          "output_type": "display_data",
          "data": {
            "text/plain": [
              "<Figure size 640x480 with 1 Axes>"
            ],
            "image/png": "[encoded data removed]"
          },
          "metadata": {}
        }
      ]
    },
    {
      "cell_type": "code",
      "source": [
        "spk_rec, mem_rec = forward_pass(net, num_steps, data)"
      ],
      "metadata": {
        "id": "N8fQ2lPoFHsP"
      },
      "execution_count": null,
      "outputs": []
    },
    {
      "cell_type": "code",
      "source": [
        "from IPython.display import HTML\n",
        "\n",
        "idx = 0\n",
        "\n",
        "fig, ax = plt.subplots(facecolor='w', figsize=(12, 7))\n",
        "labels=['0', '1', '2', '3', '4', '5', '6', '7', '8','9']\n",
        "print(f\"The target label is: {targets[idx]}\")\n",
        "\n",
        "# plt.rcParams['animation.ffmpeg_path'] = 'C:\\\\path\\\\to\\\\your\\\\ffmpeg.exe'\n",
        "\n",
        "#  Plot spike count histogram\n",
        "anim = splt.spike_count(spk_rec[:, idx].detach().cpu(), fig, ax, labels=labels,\n",
        "                        animate=True, interpolate=4)\n",
        "\n",
        "HTML(anim.to_html5_video())\n",
        "# anim.save(\"spike_bar.mp4\")"
      ],
      "metadata": {
        "colab": {
          "base_uri": "https://localhost:8080/",
          "height": 1000
        },
        "id": "9gBVDh08FKtG",
        "outputId": "f95c0141-dcd6-4d97-cf66-301a9962f804"
      },
      "execution_count": null,
      "outputs": [
        {
          "output_type": "stream",
          "name": "stdout",
          "text": [
            "The target label is: 7\n"
          ]
        },
        {
          "output_type": "execute_result",
          "data": {
            "text/plain": [
              "<IPython.core.display.HTML object>"
            ],
            "text/html": [
              "<video width=\"1200\" height=\"700\" controls autoplay loop>\n",
              "  <source type=\"video/mp4\" src=\"data:video/mp4;base64,AAAAIGZ0eXBNNFYgAAACAE00ViBpc29taXNvMmF2YzEAAAAIZnJlZQAAhPdtZGF0AAACrgYF//+q\n",
              "3EXpvebZSLeWLNgg2SPu73gyNjQgLSBjb3JlIDE2MyByMzA2MCA1ZGI2YWE2IC0gSC4yNjQvTVBF\n",
              "Ry00IEFWQyBjb2RlYyAtIENvcHlsZWZ0IDIwMDMtMjAyMSAtIGh0dHA6Ly93d3cudmlkZW9sYW4u\n",
              "b3JnL3gyNjQuaHRtbCAtIG9wdGlvbnM6IGNhYmFjPTEgcmVmPTMgZGVibG9jaz0xOjA6MCBhbmFs\n",
              "eXNlPTB4MzoweDExMyBtZT1oZXggc3VibWU9NyBwc3k9MSBwc3lfcmQ9MS4wMDowLjAwIG1peGVk\n",
              "X3JlZj0xIG1lX3JhbmdlPTE2IGNocm9tYV9tZT0xIHRyZWxsaXM9MSA4eDhkY3Q9MSBjcW09MCBk\n",
              "ZWFkem9uZT0yMSwxMSBmYXN0X3Bza2lwPTEgY2hyb21hX3FwX29mZnNldD0tMiB0aHJlYWRzPTMg\n",
              "bG9va2FoZWFkX3RocmVhZHM9MSBzbGljZWRfdGhyZWFkcz0wIG5yPTAgZGVjaW1hdGU9MSBpbnRl\n",
              "cmxhY2VkPTAgYmx1cmF5X2NvbXBhdD0wIGNvbnN0cmFpbmVkX2ludHJhPTAgYmZyYW1lcz0zIGJf\n",
              "cHlyYW1pZD0yIGJfYWRhcHQ9MSBiX2JpYXM9MCBkaXJlY3Q9MSB3ZWlnaHRiPTEgb3Blbl9nb3A9\n",
              "MCB3ZWlnaHRwPTIga2V5aW50PTI1MCBrZXlpbnRfbWluPTI1IHNjZW5lY3V0PTQwIGludHJhX3Jl\n",
              "ZnJlc2g9MCByY19sb29rYWhlYWQ9NDAgcmM9Y3JmIG1idHJlZT0xIGNyZj0yMy4wIHFjb21wPTAu\n",
              "NjAgcXBtaW49MCBxcG1heD02OSBxcHN0ZXA9NCBpcF9yYXRpbz0xLjQwIGFxPTE6MS4wMACAAAAQ\n",
              "f2WIhAAv//72rvzLK0cLlS4dWXuzUfLoSXL9iDB9aAAAAwAAAwAAAwAAAwGMR8kHRr9MkrqAAAAD\n",
              "AACUgAEnAAUMABvU/BWmewvKgDX3lAOK5fLk84TfXy0MGCXEyMKYyE2pKmvtYuu45ln1bEj+GUAf\n",
              "3t1Q6TkUXstRL5AoZLdH42b1d4Kujtr97TqL/lkuzBe0vwAAyRxpJbrPwlr4MhlWlvPA/jloLqAQ\n",
              "/8/ubZM+vO2qOcwnR8ODB+gQ5pdRTGYJBuv7K9fhNo9+qX978mGSAVM4nmaMySpRtYbcPjriDoZ/\n",
              "ufaaAeG2orD+wSNuKihvroF+ggaCtMpK93AQEAoxh84MBC8kNfPFjFfY0cA/wfeeFHdr1IzblDAo\n",
              "TOcjvLXtsY0zoqDbmTVfIhcVADryMezcPNbvAAPbWYAuONTpjCsmmBirAFrOmQp/RBKnvvh+WgyB\n",
              "ffg91Z6VIYYDIp+l4ByDdcX16OaAAOw/obg/EluIordrhstru42GdxKsd2mEOKM8mtBzjq2v5+Le\n",
              "0Fne1JmOnOKCiKhQl3NCzDcoEydVXOJKZgV4mhfcpPAdmd+FmqwMAs99pfggZQVExJW0cg41Tku0\n",
              "0Xm4nbMJ19/QhkbKa4a7J/tBdSQpfh+jUmwAHefO1QAjcFABIN1l6d1lW4HlZNwu0ugQsp7rimoU\n",
              "FaZt2PgwwuIlzH5XZ/jH5HQUV8FNcDNZN/2KQuUVlD3E965ebgB1w7D+jqpsD7KEtg196q4gPhzJ\n",
              "yv/Aj8Yq3aTEOaWOPEPw+bFo/0gsDpMoAAQH9XJs7+BOyZDUkhgT/MgUUAAGIFABOXNO2VmmGasN\n",
              "xcs3pI44HlJ0B+Wtn2dMri4oYs28EMeiGyNIJVPYyOzqPosSJ/ntmJVUNHY88YjiTFUpwntrRv40\n",
              "i0p9nEF8AAB0a9ZQvEpmY4Cw0zyCow5Rw7HUcLSYybqjpF77rkecgA8ZliuK31hiJJAgAb0ft03v\n",
              "SZ9Z0/ofJWe5Kc3s1M81qIiXMXTHE5BgF7AABQO5AG2MhgAR+BQpjy4/0usXlqWQABB00FO0a6Ia\n",
              "nIC+rOT84+uidsdU10pjcQR7DBacpcnBdhR3WHCZkvO6ADCWViwgnksLklaXlku4qa9EN4BpwD5H\n",
              "6f3hbJfWIZkUDjb/hM+PyaDcV2YME5RmAUV3R7U5QzNQ4SrTavOwz9XlbXIzMSYEQUA5G2fnl5w6\n",
              "+HqI/u7uoyN9agf/SFPG57dIoEdJDz2zl0vUvCr7Cn+kbm56zhid2WvTEe1IEhD+HPkOYt4bZdQP\n",
              "PyupkI9j5wL8Olbwdsf5KcS93CK1LlHliZ3dILOzRwslCFWwMMnNvINZ/y0hviJey70ieMAABUbe\n",
              "q9hNzvZGdJbf90Y75Xzm/7I5i0+97s4hgHk4a0iKlGSChKv0OnQ0mpYpiSU++ABMNN/UG1Y4H9t2\n",
              "34d2XKNcHN/W4CRlrhvVatA4PYLUjyx6Sg0mlXUVDLEUDvDMwHcB5Z3hnV1iOY/rJ4kzdLbGLU6M\n",
              "8ud9lnnayPUhN3K72A/80kAABXHyQZTS76yJYEncxCIvkVuE+2m0oDvVFEUy8Mo5T3fc7i2payKt\n",
              "qyQxEXs/iA/C/ak9Q/UtlkRNe3D1u8yboEFLjN4ZhCVAU9cub0Uvs5HyydlOj6s38kC8E0Far6vU\n",
              "Mhk/ydx6Xg17LUoB5a0UBqk03v/8/O7PPvNz3A45CZT/HZuAgC+omgwABYJ/0SD+BUBhS30nBBwC\n",
              "UMVAaxCLXH02cQE8+8xii2l9dkgin841KGpZ5Vg920j1dW6f2ERe7IOP05v4BspxE+Mpt6+M/l+2\n",
              "B4W5JdTzomH/Ub0rht9pgSiGaCfLXP0h9ALpRuZ7x+GdDtbjU6dBLYmMEeeGrUBGc646OcgjymsV\n",
              "6a8Okq13UawmdzTCmfOHYv09aOHVk6gq/BBglHopvEGM3N3hHH4eVNuDROreCjCVcQdCyH1Asgzi\n",
              "0IScfmFoWBcKIQdaOPvwkADUtAdsxyNZHPBH8V0mNlyy3uZSdZw116d+tAO4oh/uQ2LOuM7/kPCA\n",
              "JuKwT34Y78eJtTiG0N/IoIDIrhTJEHhP2cC8aQNhZ26Rx2F89GW/LxrM2w4vmy/3IFaoGy9gARcb\n",
              "nx2w/7Sxo81l5aPLlx2gAAMmZKXI2M7X6HdesAv2YGClLxian1EcmBsBX0U13MihKP9Jfnecgl9W\n",
              "hKAAFR1tDWklLM711xGmcsBsq3MmBZyoRIfSjvqV9CBWLdqcQWXsV+pkCZYFV1cAJb7P5p1SNk/T\n",
              "2xHh7GjhCIMPh0Ich2Tyee3unm5v+EiHZWBLDgrwR1D1UXZ8oCN6ilUAPTToAAVPlnYf/47CErgA\n",
              "AAl0ABOVqW5P0yZg+RfiKosaOXwoZj2h7dI5rfK6YETDftp+J1ITC0mUS4knNcGrzScKh+pxdhO7\n",
              "bnnS7mVGxUcCFCsWO/XX+EyMcpVYTgrD+OdUr8gZu9bze630Z//wqWyTRaD8QqBo7pSCjbwTQAAx\n",
              "NwsvIftmQWWuKa8eBgJ32dhzIMr8xkWsQw1GGU9pnb3VxzoVxRhd/NZ9TJv3qAABalh+0D7LZwAA\n",
              "E4I1gYuQGf+/BFj7Qbtjd6aTXQb5ymV0+ni+DfzJXLIoZ5AG4ww7KbCCiZ0df/AnOgABsMEEFB7Q\n",
              "VkJ2O1tylb+x1051GNithg+zuFaVEh4WdCoO3TFuGhdTcuJg7IoIeU8PYHAC4ZiAABMnD1+QACHH\n",
              "D9sTE28FAADhh4L1EzrpykvfWBnc0X3TRei0fTHyYxT2U+3yfhGMggRhe/WfQ83wW0G3jcLyilMY\n",
              "5bSeN5K115iDIX3hUBYPeNrEUhPIx80cpFOFsdCAAp0PH0E0jyVHtHmUq1YYOy9CdfeVn9ZHJ/Hs\n",
              "V2t60lfuBPseWwjLWlX/CbpIivzqcAQ7QAAtXYfgmGPucVuKS/dQ5Xwh6JpDC5yKv83CcqklnXmg\n",
              "7/GjxF+cWa4bNYF3xwvvqBD0dkcL2wmEI1/TBftgx5fgABg4ODGQ9MKHAHAvRevlqQgASc3KFtc+\n",
              "Gc4llP8PX5brpFrqMDM0uXsFUw2uy8rNANwoV0kdLAMcBJv0aJ1Qk9+5b4W4jWNuNzqqxucQYmay\n",
              "04DIkabakjb2FSL1EQgM+PmyV1p9rMBY3QxJdq0k6ai6fEUXqNa/c67FniM1s68X6uQLE4aa1mb+\n",
              "HS/FJury5DygFhTnq2FGYJhbhybjbx1Sqv07Jx29+irpjGMuj6In5/rWtYAEqA0lhP1w54yORdDD\n",
              "+4XDg7veGPXKuylQ+n20eV9jXPeMxw+33ILAbAgEWfb3mGhNjWpKV6RHHaF3AaSXDAqEXWld/wUr\n",
              "le2lE4x06Op5Wp1O9cQ+gZExYhuLBaVAot/L4NYxGqdwQ1S8cXf/i+b6QBQkcXpxJtcHhYj8K/n5\n",
              "vW/yB54FdgoB73O1zfGJnZhr+fDMisHR4EPxFvaceQvxkijpnfyQ6QB5mUwwIdGDqAA+TEtJybaz\n",
              "CiUuMQiprS9aMQfJX3CtUJkKTsRaI8/1N59S2RV8ypVKwDDrokt2Nz2QqQ0eux0kr83JF1OsMlzl\n",
              "lQiQxAAHEfXbNN9MrZ1UeMeUMcZDpuS11yjpVZPD2wuXBKpOUM4kvqbneNsy73JKqGXy3JlfF0bN\n",
              "sarPwQwqdSAlCGjS6KxBBA6Io/bADz2C8XpHGu9S1QhbiX5HYZKd28A63cbJ1Oiv76A3ztl3N2Ko\n",
              "AD60y0TVfBrs2IViHzTJpvtN5Lqw75q2g4yvl+2EdHG8+aOW9vmj3t7VbXICIxUWPabJFvfxWl1f\n",
              "DAMJ7eEBFZCm9mhPR1IougFoYDW4kUv/fycXafJS19dovyNNv9Fs0hrWvl93fZpRiejcFez3mQ0C\n",
              "sFig/JCHMboaDqO+N2TBVwhzlMc+357AZjbOYw5d+tOUnOjvJN6w5zeTuUYl6oiXbMl7DaxwLi0w\n",
              "KajKEV+VOOaA47u687SMZBcVmsG3utCYfij4zFXMZUJvHpXhxDak9BgRXM+v+Crsm187TfbNiSTO\n",
              "st0HBdrDHkCAViZGGeiGd/okBuwPrLxGACpYAMCsYr62efGJ//gtfUkr0MV/ftSwD+/CLq4Dd9y5\n",
              "PoJOQEoibAQRhjDXunC25rh1780ubmstP3LxykLJqNWqGUd4nQv/b4uEMzx2jFthYuNRQ0kuYobd\n",
              "+WF8N0phPd+xAdQ1xf0F7Zu1CoKvjWtwPT0qVmz9ykvwH1KzuHICA6F158UuMSmCTwm3M+1UAJXK\n",
              "89fDGxXaU7d4yymWE1rCweTdjbmLWGV0fIms6T0X1NNXQGyi4I0f03yA7nd75LPsCTEV3RIjWtu6\n",
              "F5Ung7oZ6rHL+cbwQdRiSwQepVM1N2CZVID+YBLT9UOdC++PxvDE711rgfxxX8Iw5VV9FLwjjUKt\n",
              "MSv3sAABRHfY/ZH4XS+J2rXnii51J3n64g/IjFDQxgQdN1T6KpZCY7hNB7by5D6pfEffDjmSvX6a\n",
              "LjJfifC8cWKdHx/2/DXi/0RaSHszvwU3GJOeT6YgNZaB+5xTKMocFFseP6Ot/XO+JQAkG23jl3dc\n",
              "lGCkok1RqoybDVNgWUAMKHI8shl25D0sKBeWDRKCnezDzXNjoJ2UNr9AEUyRucfG8RHIXRVEmWf2\n",
              "NGb8C3//qpZw5qoteKVxKShyZZHP4+sfAQve0WyfqOCZgfq36jNjjtq2i3FiMMbzqZC/6dlJLB4y\n",
              "sSiclDQSHspy8BUKDytC7mdoGVBMyE+P+MAAQbxCb9G1SBtqbaR6WbqdUkPfVpoEs0U1aCz9s639\n",
              "TYreVCK473Tl7diu5dHIqdtLYs0fx4aFwfoZjiWQQLXjtZTC20E6mbwCo0EnaULP1ML7C6C+yUIi\n",
              "dNzdt59IUp2bkwLalUeaktjIz4Z3Qwg1mOifNQ+2JAh4kzF019hI/XC0eyoIJ4IHfDG9kTCJfq6l\n",
              "XN7OGt3MaGqEwkn1Wxzk9es0J3ebxw2TbkXWn2b6u6DBFyz2FMuNz7SrHzyAt2TS24v+lcU/dRbd\n",
              "vHFS1uWnIKy3Klm1xp0G8dn+v/P767QCOKlXVahhUeTI1aV0uzzr26DL11joGO+rFKEPzh2x8MSa\n",
              "Rtv5/RQXOfrffBVkAOHHiIaxI3uGygCQEqKLXzvNIUIE38CIxpnMys82+Qcfb/JsoOtrxN45kr/I\n",
              "F3DdkGwM9gmNp44ZjPy2vqWLnDWQx2tS36oB3tn5UdHf0me9Av7NRYe8yoPsULv6AE9xrs6KXEfd\n",
              "1bEKH7lsUs+noa91jWDDTOrhEBaRV2Tepi/CTwAF0eXA59Wc4BlcKOPWZkPYtM+06LcM11Rikve3\n",
              "yuXPazCYjMb9yQcyIh0mCyEtr4r62vboBjk/JyXUDU05O5zaRH1OwbW9H2H0urKgX7wPQvkNMEHM\n",
              "PVY6LLDMk4/dKCuTAh4Uzak3pZABFJ1vHp8wZDQyHLpiKBUVF4cBxZEr80Pb9pic0ByWpHnLmZk9\n",
              "g9WxN43mTsX1mV81OHClOWsq+al9SRhbpecz65XFZPuOpZGDvUrWUfB6EGQngvvd/egYEe/XzpQA\n",
              "bUFl/7XoNsGCM82bO/j07+4cce1LuMW+kzBkm0PgXk3zzHRykNDt652BLoisbDMMqoB5BDtH+/KA\n",
              "+JNgAFXBAAAC70GaIWxC//6MsAAAZbWmaMi/GAABtQt5/+/1LsjdpHk1WpJT+NfHz84da9UprXql\n",
              "yJk1iEQs8kX9qfTUaVd10TxHAn5XgRkTxuJLAibKQcgXyCfImwMBbvaFnPNn0F15W1/dbLzDh3Qm\n",
              "j/Fvw1mc7ZgRA66EKVRQnadCdGxhCg3muZr1U+y8vPvVtgCOLLr5iZyjpiJYZX/354U4ASzuAblQ\n",
              "fFo38h59JEoOScc2khP9gG8WvmVvk/qKMQITtdPT/yY4Js1viRfmIiL1VLtelvneT2fn15Ps/Dg/\n",
              "QklZc0FTftnIdGpeYRET/VruasLbk4wWHdSudYikMvm4W+NX+di3R36XFdbSXRPnfu62jg8pxqq+\n",
              "p9re7R538h7xkGhICkkxITDJCYdrBY/5mxHLACTciKhgVQzXp4GqNERJkvgYQXuTXcFJYgm/YFpd\n",
              "puvqr7ol7ptrHu5YU07/7MD/FaYZvuOQ0wu+5s/BIP0Cy9rSkHf3h+NIatcn6QYSNjvem9C41u4l\n",
              "7NJr2wqKMbaZHTx65wreivwritefDEigx/ifmX7JFmZYWqtUn9yhdeS0HTwKV80AFzr1ozP+ic6N\n",
              "YWiIcGjsK9k6fg2Xw+MOZX2E1vmiV92I9f5d5AU4Q7uAuCvGbC/muy6l08WtS9p4KgfefAQ8pTGe\n",
              "lie/5mBNCL0CUq0vwh8PXOtN8JysOSIJbbMS+mwDhsOZpijtylA1R2pIXGZlxvFXA5mCP+ASws9r\n",
              "iAeMnU7uoCa74axuVXAAOIEmYvwvdAdg5bGU9nXLc/tcKslOKIETuxwteBhMDKjOSDoHye1nzDou\n",
              "idigUwQ1XRoBJmFsSuCL4z8cXUH0ZvG8hqIaW4yxwhpRVp1vHmzGobuxb+1oNlMRxvFmRDobL5Sf\n",
              "Owsf7KQ63yP15iVTCzGMq5w5wD1XZiQrzSANhhV5Bq4dJ/oc4CuAKt2HivwrJo//Z7bWDKAJCJfW\n",
              "qXB2ToD78GswqiF3b10RmYUNEUAAAANPQZpCPCGTKYQv//6MsAAAZU81BgA5wW8mCt7cHs6dEe7r\n",
              "KB2+ZJtqLnPx6HEcIFV9E3z6nkpUSxeHZuzqdRHOpISo49MSuViHuc3ewOFOgNQPHmEPcfxBPnSp\n",
              "42K8gZtDISg73aTLFbtNpRhe0DMXC0iGg0fOf5bJbjcrDxASMlwa+gErjA180MIJESngO/2BOvgz\n",
              "yflQ76acFFh0xA6avUqlkV4zKoLYoJXA5hpi9OBs9WoGP65kQVPLlL3QBmxk8V9RNe5TflZ4ELCU\n",
              "nbm2SQuXyVUvYLYrksT2P0NZ8e3ZcIlyAaqkudlj6d0wBQC2QpFkRzt81Tpi7Mmqu025mQgr2qJn\n",
              "lDCGFEAA+4aqoEH4UUCUiLBuCHtd9Aklh/yVUaGW/5Hw8YvQIpDvj5ynO6gWqmOMkjB20MMzIjDk\n",
              "aInno/9dXAMO1WPXdJyerQIufOs1qtAS+LRAWUCydgTGfZToA93/Mv9ukH48Gtim8E1ZTehxAtdN\n",
              "m0yrm5kA3iaQ34m6DYDE/VMnPxWSrTgkXkwD1pnTHdVbwAgzCbSyuWqNZG7jy5WVSLltWEBqJ9aa\n",
              "oarpImXDRpgzi7Kk6OxWjjcJZvB0c3os4KYx8tkl4sKCw5ObTx/wYHsZH+Si12NkeczkiBfZlXq5\n",
              "GcI3X1wUPGlMyDrw7QN4DW4YoI9ji0REzOCQU1W0BmRGd0Vj7hzYKarMK3Nlzr7au5Ok0ikMdYJv\n",
              "O9gcvIyqo0i5qP5k+/DSOITEbsGZQkaz3Zyv3M4IojaOGazWDU5Ri+OOm/RQOpBwPDFLPwYmthE0\n",
              "IluGEAh+hzgSmEUHy2GP5T4HY2Y+58vXZ//gwY0JwtobeI1gf/PD9npu9WdBvim2VcjEstHwIcNG\n",
              "o/ONOnhEGxghFTTQI7AOlOMRhANW9G5Fq1S8jwlAr97lxh//moqq6RUam2eIFbo8XScpBgrsNeQo\n",
              "Lmm+iyZAKT56Hie19LSjVyzch5VgQLuM2wwLZ1cuDO9IE1Tts8dbIkJ8QcOGLKdgVNV33kSCYP/8\n",
              "i8Zx1R1e6wbEth5xdcmIJBv3yrnIVM2jqSrsMtWeY7y/TcbEHrfo7nA6gLDRYBNkpnibscF48CaZ\n",
              "ji3AhCfe0tQqnVYgSFFpwQAAAhpBmmNJ4Q8mUwIX//6MsAAAZV2NHICgtxCFULrs78U+2wEly5nS\n",
              "Zjn6bqWcoUkrJYZA33clDHI01uDSKfxv2fK8IUewi84eWvKlZJ+hHZ5e/PwCTJ9Ac64TfdGmwqZo\n",
              "r5GjvolmT2LAyUGQ8e0pBY6nCSnzH0q9L/hYwVFgPdrDHBwKf1mrvirdG97wvXgTxeVpmx6mkwGj\n",
              "HgZLfL7fXXSAworB1yA3GTCDk/wKBUGDyRhfW1qKH4nrZz9iRtXhSSdQfgVz8ZxbAqyf1kip+bTR\n",
              "R65EKqc5Jobdh7Qe3A1AP/MVfP08XDu/RJ49t9/U5QPm5rsDJQwr/oA64giSGnEIxaEDggmFC97A\n",
              "tEovS4OxFytoqLNp6P1FRDBYFKD1JNqMvZfliDyp5Z5pve++hP3N4QVGgZrOBLLpteipZjB5hiwa\n",
              "QS91Dw2qnyNPGPKzSLzIpneAnaofUJFrhpcgyhwJRPmQGN6wO4s3FkFcRldhqTJv9gfh7UFLNasO\n",
              "9wfjDHTkjOjVt0GH1WM/FrPi96KYMbEAuWF6Lq1/bdCqNHemsBcqLSZbMI+DUVkKYenK2gXv2FU4\n",
              "7sKL25rVGmD7iupSJM4MqY0dgPaCXPQqfoytEfo9tTZheUCObynvrCaGgkB6ttcC9KLjs7rgJTsS\n",
              "rbpfrBm1qKjkycJJSGcQgxWWmUnRevDqgctweTTEGEkHuH1fXe1o+5Rsx9D/AAAA4UGahUnhDyZT\n",
              "BRE8L//+jLAAAGLAhUWon4gCltAxTtn2Bmueu+FN7kDiZgGtZXCQ8AlExNdSDT59zA6dd997hz3t\n",
              "HbWZ9YQMA9hSzGndaL6q707Va4UQcN+RAYraevfDqspKLNh9ny7XIO4uqZmUoXvmTCPgSQ7lmvxw\n",
              "d9c3jRdIeL0WSaXtYOBHgmrup+RTy+hcv/phldnStcSDW4fgJSKgD6qT0Wx20bFxJK/OVUL5lX7+\n",
              "Nh7zgb8oM8c5xIRMxBcFKWtv8gn3k1yzNaW9ANOiKRSofltFjUEXWYEu4XAu4QAAAIIBnqRqQj8A\n",
              "AB8Mdtzr92yrroAU+JL/B0n9qUwz7AcCRTE0qXLGME5rwHnmDACdvDmOW2TnAbdZaQWtXqLP0eEW\n",
              "4JVEDg6q4fTKPnBTDqTOfy3iM2GqZ4KgH5nUupfcru0om7yEoLKKnAge2IyI8mf3863nzFUBeyXb\n",
              "ePrQ2dN20AMXAAAAv0GapknhDyZTAhn//p4QAABidc/DSw+Nr8rcHKHGF0I7K2TjCXrKhBGLLJe4\n",
              "8+Zj9oJaTx60fD6d2VOEkqtV6PhCVaN7wOjkQoAWsDOr8vuGavr7KezNHDpEXBoRNHRea/ImP8f/\n",
              "/c1DqR7ONtvcDWt2pHwfiHvmdwBehZL7ot7E7KFr13fRmcJLegeNM9bZDQVhlNKBqLtBXaFfz3XJ\n",
              "3563HZUG9/PZ3niLkZnQqGbv1c3+WiAsDV3tl6NPoAPvAAAAmUGayUnhDyZTAhn//p4QAABifyHy\n",
              "hPAMxskONWLC0N4BQUmC4Y554cbN8HNVr9YMiukNoenO3QWoAKz+s8nZI8klEhnyvcBidtSxt44K\n",
              "o9gCNjl+A3zYP3oONm2YMLZ2GbpZJpDEV121LPic7596mZPFX5Ds799jH0ZOCY8Lhg5Z+Un1Jfrm\n",
              "Ulz9nLqcQbzf6lz3pxRPMRbDgQAAAIJBnudFETwn/wAAGmE4PFjGeL86RG3Q/BpMxrU7FgVkHKOh\n",
              "paDExhMgCIEKBcP+2Re9TglyDOcLie0AJF0WCn2PkXJTQ2+ivTOK2XVvjBA/SHRFvszVL8n8b/Cd\n",
              "mgfWf+olmivDklLboFFIfUcPZvWifkcBi6ey1R5UpnHtWdpMADUgAAAAlgGfCGpCPwAAHmb6pp9D\n",
              "QHZ3bL+KlEhRcQe4+Zfxp7DrsenfRn6EwX5qTQgeO/AB+60D5Pi5ZQrvgAm74kCDjqGtTh7QvuLt\n",
              "NNfD0Y0QsJ+03mDy9D0FESo7hCcEHscQ0F45r5sdCw6yrhfFWO1W8BjZ9ACfDUIb4YazYgG44HcV\n",
              "BTD5pliCw1a43RaME7H/98fiw+AEHAAAAJ9BmwpJqEFomUwIZ//+nhAAAF/4Tnt8IDIQMq1jAp4K\n",
              "4Xv3+GZfw/CVEoGcsetMvbRvwA2b3kNuW8dF3Hpq2f9kS5TUFq7aV14L+5sr3MS7d9nrE4itdsbG\n",
              "4xr7TSMFHXoIL4L3defZnagweJhRV4h9OG6jsdQMinarwKQcXrpyRDiDM6xYh/av/MAEgABZNKT6\n",
              "jf2VL0qMhhJsrtwAKCEAAABwQZsuSeEKUmUwIZ/+nhAAAF15lzrXWo/fRlkKSDsxFFwWjjit3p/P\n",
              "6pkilwiT9XX41Dp+93u8Mij9BIALrZJ5flqSPWSq//BHh7xuXXS+cV/3OMAzW/PAhG8Hb9KFfmVN\n",
              "fIV4hG/D9jcmwzzifwepwAAAAYNBn0xFNEwn/wAAGR9NLEAAlFrJWFTuv5GBkdblkrj0/mW+1F46\n",
              "jfnEbj8DU7g/5s3Jm4AkMPf/tXHcUhI5KpGvz5wUc7qhubEWUJnmoh90z4f1iSLwNtiJbaPQ8kDz\n",
              "QGaZDxG2I32NQnhZxPSwb5/eOD2AVyGnqPNRxPALYYCXCQlAGGu4cs/UgxX/IJ9CqfEAntbcj2yb\n",
              "e/a3tBDjmrVH+0AGXBfDHYtjXFZ+YQMnqb/VtZgReSfQ8c/7XWJtKzedikgM0BxNfRkNtza/MB1M\n",
              "Rc6W5UtyOlCyDKGfHxqCMQO+od6FAxyCCGK47wZ7CdPtjI3MgrYMdcjeFg0aoX4KX6VKTIWoOym9\n",
              "Y1nQwSmVJrEHhChMBiAwoupAvezZ+pkwk+cBD4NxabTB3bAYpEa4hzy1QWaFB+0KazA16xJZMssc\n",
              "cGClXEh/Lr6WLF1Y2FB5kHS9tZYseM1T/MQ4znx2IVpkHbVkR03Rbnp00/d8VlIdG/wpO2+oSrTz\n",
              "gVdHBeTQB0wAAABzAZ9rdEI/AAAduHmDNmYfi8yDu6aXoMYv38VHYMuQ9xaOOlgQE3hWRNbWgAE5\n",
              "PeEmPLZSSMhvng2UB2KVxCVyenPsDi0d+xeqemKvN3ruPMekH5cTHyeKNKaO0/k2LE8Q7bmcOBvV\n",
              "tgzjPsxSQ6CcsgAu4QAAAHoBn21qQj8AAB22+qSatzXDMZt09QGsxWQLJoCH/PA6AxKfHvE/C0/d\n",
              "xzWnRVLKCPmkBEnhdbNse9RNfQG+VxEsU/bUlz/QkjFmY5UZYJtlDbhsN/5iqE5VGqAmwEVA0gNI\n",
              "EQDWqDAJaF4FUHEJwiLMIqavzgcqQADVgQAAAHJBm3FJqEFomUwIZ//+nhAAAFs5lzrWcj99GWQp\n",
              "IOzEUXBaOOK3en8/qmSKXCI8zPRVON0MF03mmgAMpw7RIaemw5iCJf/uZoXkM9+Diet8Ql1QPyTG\n",
              "F5Zh7FKHnlsKpIaozraiRRJyEhJ/lcfuIGb7HL8AAACZQZ+PRREsJ/8AABg0iHRAAI2/Sc9V+xvO\n",
              "M9ESPllwva2YWQqu3ZKtA8Qauf6R66Rj7z2BrW1Tg1y5aOkn6g1jGP1Yycr1CBPHkv9HNpTLk4uI\n",
              "kO11Cvu1uaQtfS6/DDCTS+TApjwjEp2ei/L+CO+66Vd1fzCRh7NYNvl5XNoAp+MpbqBJv3A8t7Gd\n",
              "ptRq348aCNIHSPJ5JgGfAAAAwQGfsGpCPwAAHQb6pJq2bd18Chlcx2yfYf8oqMF9n+56RWiNpZWA\n",
              "EywoIBG4y0VcNyhmClONPEQpC3+kNSC81YEpQ5RC6RMkzn5TAieSbXFlGMwdQ6YAE8YAT2nioh8y\n",
              "28gddokWKMozPo0gALfXnYbv4BZKKgHADZwDVqNtTUFpaE0bFTKnONMQANntNuafNwiZMZHQlOLJ\n",
              "ad81KZSVSVtKEAct0qWIjwdZqcnKEkZuqzkLlFcYDABbwi4xAMAAtoAAAACuQZu1SahBbJlMCGf/\n",
              "/p4QAABY+Zc613FOQAaqi2FYAk78h5+N9BFJFmWDhZDXy2S90D9XO5T41UeBQwnrZMGWu1TFlJSg\n",
              "WuQBHTxB8/8rxrmpUMOxHfhm9uWhVRM9YljyEQKBwlfF9BatXbQeVCHfOjb09p06ig/ciz1VMY/8\n",
              "7D4Cl1NdlBtjskwrJiLIZRRZMRRzoA1VWG+3DBEBerV0jBa+z2fuHzlth1x+SAEPAAABHUGf00UV\n",
              "LCf/AAAX309MN97D0Kw6AbDdPIfOnOHqLnoZIW+/I/yrpDvum6olDamBBOPhUovkuvXlZbBvj+PQ\n",
              "tsIaEoBuOwCrEcdNEc/T3/yUML5yAbdyN2gNGy85ywr1fgB0x+DtwE0tiWDRlLaeflOa4RrnMl2w\n",
              "r1ra3ge5EEBcQeR1j+kyQluoA2/cj9wMgIi/T4kzZsSxixXmpD+OMGdE0lo4LmHh5jbLpxMJkJYz\n",
              "2RvfuYtBKKiltSUgrAWmOw7VjMe5ATbUNeXzYjlhW5o6PE+BN8EgbusN23G8ZgTLgIrYJU+l/cRt\n",
              "y+cAOOiEUosWbCl5PTWKihbQ/U6RdZezqpiMo6cjLyj8kPOPPkccNJt+Il2oPHHL4ABSQAAAAHAB\n",
              "n/J0Qj8AABxKx2MSLoAZ2Bcus3AcVoEGOD++ekdeynfb/cHToSLcVwByMKM3kYq32u3msZUnwJnC\n",
              "S4rSXMFjGjPhmPn2uSeNqk8etDJp9E96Upm8asKreNxvNiwZ5qFGz0+fRkTU76gA9EogAMCAAAAA\n",
              "iAGf9GpCPwAAHE/jXSh2syMQR+Xpdvi8vVNXQw5uPKFHOQsliEhIIj0rtlLd4kACdaHinyfmjJYM\n",
              "TANZzA3UaaJ1Z2GjL4by609RIyjp2hdPU7uUWG+mXCzBPZvAYiGKBKNKT2Bsq2AcRWVk1jiznZTs\n",
              "u+QKXGC2/rfO1Z8+tetWeiKYVJAAGBEAAACAQZv5SahBbJlMCGf//p4QAABWuZc611qP30ZZCkg7\n",
              "MRRcFo44rd6fz+qZIpcIlc6VIiBrgBdViZdSuJbJpypeqHgIBrpHEGXthdgSbnNv+OkF88a6W3To\n",
              "9pUDe3548h0+oCOvuJviyNtSiU0ND/TZQ2J5vqDkC5i9Q7ho/KBADAgAAAB5QZ4XRRUsJ/8AABdE\n",
              "dSQ3XEPQrDoBsN08lrWM94CFnsXqhu642Ky0QDr/dGjKgNBbVhBMKwYyCIUELHe3ebh4M9vYFtrS\n",
              "4A8n2OjjvZ39do65DS8sz2azgS5b71wvhFSDvO6tPCDMP1JD1ryMBc5y8QB6gqVLBkAG1QAAAHYB\n",
              "njZ0Qj8AABtS/7h9RzqWRsv/rSv+ugHiBE/8C3F0dUGQMjFxpSy3UmAATmOEy4W/Xti+LVWfQVfl\n",
              "9HVTWx6J+L8zYYb8WduObR6kEmTd65/CNIlLG0WFPXvAHDIrf9626QUn+LM3W1Lac000WFSUh4UQ\n",
              "APmBAAAAiwGeOGpCPwAAG6JlOOHzcS/MVooGQ06incRpWV3aejKZzOZke3g3XqqPViqgA/dRNbdq\n",
              "h5FRh6JCaHmgAjNNv/VaTIyIQ9aW8kIt7NMI5+dUOKP39QYbMpWuBXALsFv6WooheqEsHiXu44U3\n",
              "SRnaqc3oGasaRYdoKfrQXwZp5HfKDahX88+FUwqAA2oAAABiQZo9SahBbJlMCGf//p4QAABUfd6U\n",
              "eWQhADY6ACPLXUjyhcM0UWlHyIoCnoXZr/BkBZ/1SKnawLPUSHUZf77Ph+57CCbZw/+gVYsiOfEN\n",
              "jx7iYXMin2D1g5qS1x2/2fFxA0UAAAB7QZ5bRRUsJ/8AABa2UkvK5lYLbpvFB7IF+ed8AvIbwSD4\n",
              "zElmUjvINR+uFm5AAJw5lVJuL68b/OXq3XKaO60DtzN7SXnox/VtFy6qiT89ZheFa6ETik7xjL65\n",
              "+tvqBBCLEequPkQwKsyj0qYzgeGdIrBJojD/5pmmAE3AAAAAWgGeenRCPwAAGv3XVJjESnfhWp6R\n",
              "JGlU+mNE7EZlOe9I4813gAfuZy7F5Kx/A3fkHDC7suAgvSwGkBoUTruPi6oQAyvXBW1ovw2SkA9K\n",
              "eh/r3zjGMsPpKAAyoQAAAIYBnnxqQj8AABpodp7PVA+HaLcqrdS1pBKbZBdAGnril/xionYAPw6i\n",
              "EEbjE1hcl23cX3JSmEP63Zp27vZQ8Az6pdDHQET5fch25B8+cmu4n258YN/wVAetXlWx57EzQsAv\n",
              "nQqLLnkQN+dx6RqFY/bMkIPhEkXR9LMOc0xyeTf/5dM1/GAB6QAAAKhBmmBJqEFsmUwIZ//+nhAA\n",
              "AFI93trrQLEp854ABZuhTRRyErq5rCSlDWistNN5YYggtkIZoF3ad4AE6rDc87BbDxg7WluuaoyJ\n",
              "Ft7H06PqiAwPpkA7Mt6bBhzvtmDbO7Wk2ZkX1DpZ9AnakRLzBVesfuFjMB627sTdz9ulT5ZTv8lL\n",
              "97oc28zAjDVMFEEmRb1U8nhp9MYKGot8lBAqc+QI1cm6NnoATMAAAAC3QZ6eRRUsJ/8AABYqmico\n",
              "Jp3guranMAzkEnbAKS4egExbuakckOR7DINVda2bfgcLkIiETjTYNPXQEjgj+Fayao4y6Y2817d6\n",
              "nBewzWPv0tj0CtQqsmaqvh+iOFG5eHqLx7lfk3usFCkl97zT2yaj7WC0qNyHqT8h920uxqKqcA24\n",
              "4NoXByQiedphK+jRTDtQxuuPWtqGpQOJa0kFmeh3z6/XzXKApf8Yur2MLV3Hb+LupirEgA2YAAAA\n",
              "dQGev2pCPwAAGmJ27XArJCMRGPjSx/3WZW93EHWvuB980yGlsPne/l5MvACd8SApFZYWX6Y6aebk\n",
              "hF1AWKYiiSPKMH1kPT5eJxk3IRHHAtw7XFLnTgdqWQCsuJne6qJH8d3YeU6KjmRilCpu62zrYotY\n",
              "cgAz4QAAAHdBmqJJqEFsmUwUTDP//p4QAABP+ZdAVVbtVhAyrWMCngrhe/f4Zl/D8JUSgZyyO7Md\n",
              "x+lWMIAJeFOAqH7F630RvsNZb2OPi8FqCyGYx48JDzWdoMSYZHh7u70hOGwya0vnIhgJNkIKon1i\n",
              "Dr4jIu3Q6htvNwCmgAAAAHEBnsFqQj8AABnIdpQj1rl6PgUMrmO2tedfibUWaeUM2po6O/AB9+5F\n",
              "/ZzeA+eXnKbwyW4E3D/FUL4+McoY3nkujKLQrx+PI4p5QOtb0lvh3xuSnd/2jHLtDqi50C+PRjRv\n",
              "gm25WXpZ8v3tEXFYXEAccQAAAFJBmsVJ4QpSZTAhn/6eEAAATUQxo6SaljxIXgCdvNlKB7xAw7AE\n",
              "wXms0AEkVjcT0ruQYOZM5Jxf7M6p8TSxXXh6jwOXOiEaiK/5NdNp24cbNqZaAAAAfEGe40U0TCf/\n",
              "AAAVCpoaya7ycpXTuwv5PFVjz9HTeIOqtZ52bTasZITcxjZujL7H/OM1ACE6ZE50btceS0rf18vk\n",
              "O18an4x1IOaruMDTUHQriuIGC1xPQuYtEwVJa06cbknu458fwOyqFnCCTHgLkWHm4WiCr7mMq50A\n",
              "Bs0AAACbAZ8EakI/AAAZKHaVjL1D9vfPouXlGca4+WQeGb27i1Y8GjNuUQbG0n7h/AAJfSUb2F0J\n",
              "CgUFplDabwyVriq+u5P5zuJNP7gkGJ/UFhOVIskup0PxRGiotByltSeqK2KZcewwJbDuYl91fHEM\n",
              "rIfUfKJznVKMQ5BEgEPAe8Fkx5goyVnPGOKQoygXa4DcINZgSwf5NAvwZ5QADukAAADzQZsISahB\n",
              "aJlMCGf//p4QAABNvis0Y03rDmwdc5gA2fSiBg8XMiGBMVP+CtP3RxO6mtpSYDZR2wlKAh8dyMpj\n",
              "kdRBDFAh/To8cJMFomqsqO7t2vmuDXIWQ6FaU26xLWwxE0bJqlQh/MbBTTvxig9fEo+3a1pwuhgn\n",
              "sUHDjt3Qve10yU5XB2edSPjmQupVuUEaZL8LXT6Nl1lcK7KuKmQJx3CFoi5TUCiFUGgjz4Kis5KR\n",
              "PvfHNtDy65cmU74PICLYIsaIvmVebLya10TtiOho+t423USkg4ZZuqMExCZ1Vup8FQ9OAGLWIUg7\n",
              "M4dgu7UzglJBAAAAcEGfJkURLCf/AAAVBlI8WMZ4vzpEbdD8GkzGtTsYKJaUueSwNE/j1GcDYzdi\n",
              "N3Qv9mAAQSwaR/++Pt6aFEsy0Pkg6sFGFTnOp0Soz+N15BxByU+Ucv3xcFQIFJ/hOULWPAh/DiXn\n",
              "A0grnysLvvUADKkAAAB6AZ9HakI/AAAYiHaVjL1D9vfPouXlGca4+XgeJb3Au1ZFGbtGS+rUxzFp\n",
              "Y/U2gA/cLBZNtNByqx0OPMwysjjfnWEHYX/EBDOgxngf86MUGuMCmlx1YQhq1gVFGRrXX5yCpkum\n",
              "otMyuDOyApjwY9OMdxj65a+UJ5AARcAAAAC4QZtKSahBbJlMFEwz//6eEAAAS74sLVm3Ld3oADRc\n",
              "fRWqkyqzCc2yUdem6zgSDfpfmlnIzP899xAZza/rf56r3eQfe1ZHGOwg5DRpQnDEuFywSrYI+mCS\n",
              "xbh/ua3D5lrkLmdyDhj1u2JLVXfADMS5yFffjcik1tfWBsPtmn0ncIz+haPUCZUj+Ld2zb/PNoB+\n",
              "/fpiybsfnUiOuDFsJKhPv16iBdiaVnAkOMeGmjF5Z28D/WtO9QQM+AAAAJABn2lqQj8AABiCU2L+\n",
              "IHB/CZkfHTkhlnLIPtvZzsYlcmczsBROB/tD6vhFkeyoX/apAAtCETs9SAnnggJCkw0e+82esgTD\n",
              "L+2d5QsUrwLMO+oUYqdKxHojdGw6ynHAzvYmt20dZqV3Ej0VJluHAm6sWELYYLFfJh6SHzkVthhJ\n",
              "zwwNrpALBrtH5zHk2Z1ABD0AAAC7QZtsSeEKUmUwUsM//p4QAABJVRStgMLLf+HgA3LgG61llehg\n",
              "VbcBFcK+8IW+dTiityaeXfmRtQAiLS3db7pAgamN6pxvyhL1vajCFjCR8NGUCAwA/sFdpeziek/V\n",
              "JXf0ZzR3zOLY21GcqzSbxnrr4Kd5kf1cVtOiOTOVICowD/jeW67i/LH1wTv6g3ZqWqYk7gJ61mvO\n",
              "x4PWlYg5cik2PCcZL61CBP7AMH4rjXV5coydJN+smBitcB6N+AAAAMQBn4tqQj8AABffhF6QArYf\n",
              "sGv5RXh+O59YtcYEKxX7PtwN9yePf3ol4KqobJ5vHBXuoZ+9L43dDzoV1oFfojlpQc/5QhGSvZf4\n",
              "7nGVuTS5AiULERrGohgbIHt2LXPs0CU/58Vwwl8BgJz+uC4ObjXZbJAtZZL+eVYBSe9Bp2Mn8X3I\n",
              "MPXBFSniDv+Isp1bDxjC3mekNBrieIj0tPv9ESbvdlp7p8+tNu1yWUx6WGVI2iIpcoSvVLiNT/0Q\n",
              "HPWgGPXSAA/wAAAAdUGbkEnhDomUwIX//oywAABIfmrApPDkTaGFp1sZAYDL9DgTbIS8klOppaMM\n",
              "8uvmAwHILXhx9AqPqkkl3wneWsPi718pVz18LBdVSElnRW6pNCEtuNv2YOJhukQBkXiNrB11i5jJ\n",
              "W3Q3t5MeL5nvWJXC84Af4QAAAJhBn65FFTwn/wAAE1a1LEAAqqKbNPoh1P397xzzHMMHn/FUnq0L\n",
              "db1g+G8vO5+bURSdZ65E+yYEvHdtEX/61A5NGcs/bLJfiJrQbWUdlQ7D6SR0EnnoZo+Hu8pK26Mi\n",
              "d96tp4t9kf4ZOSKQ2+fX62O4c9OlXDzvRW9PwdciP0RGDkqepUd57BEicqjFQFN2oLioHceZ8AAg\n",
              "4QAAAHUBn810Qj8AABdAl1tGu/HKwqjogya/s7PBkn+ZjgzbZQlM5b/Hf//QAnDpMQH9iuHTLf9Q\n",
              "zdMyrrMMR/t5Vt7iOvhZBKyHaNYvHEdyDFpRvyKn6AdWpwlAVCvE16qbHroYHQRBZFAOgCs2aBzg\n",
              "2gQ4JFQAb8EAAACKAZ/PakI/AAAXQi7xCx2l2pCjg2eolcNvcbUMfgAEM3btmrZNLZqiSoy+EACc\n",
              "7RL2bjhGbLhxt5iPREI8ugg4G60nZhTmp5rgRA5MBY1mHiA2KrzRy1jAfrqFRamyfMqIy8ojasaX\n",
              "z0S4Ooq+gjHZJjBtFHfnBvKNVmAALPMFhxACuvwY+phCaAEfAAAAQEGb0UmoQWiZTAhn//6eEAAA\n",
              "RVD81UZYUBOgmVwb4TCEZCA9m7aAmlkchLwa4kRUfR+80Ni94oj2QeXPGCTmBUwAAABrQZvzSeEK\n",
              "UmUwURLDP/6eEAAARb57DQ1fpKS4z8AIDowGID73cAlx+Ukmn/13CyjWI+eYDyW5o0KtncPxSNMI\n",
              "JIXBs5hi6fWzkBw5QJszuSBzhaJ1n2yTocpTqGZN2r17v7jRLYURkpTwgb0AAABnAZ4SakI/AAAW\n",
              "si7xCx2l2pCjg2epJcTZA+XauhD5gwns1iABOsH+DCHZ41L01UyFq6t9+iWJbs8ZDr5FoO2maI6N\n",
              "u05mvdmrqm62MqBUSdWlc582iMs57dm4PZAXIfxIZg5hiAgakAAAALpBmhdJ4Q6JlMCGf/6eEAAA\n",
              "Q1H4ksIACw///+GL1po1O/uuoMQms2KINPNSgDuQ3H4NbaeFFwZjJBNbbX1PTH4O+e9TWsdauNU7\n",
              "XUWwpIPJvNamocZb9/YRGPPzmpq/Id8VHm90nb2BeB8pknNveSDbKadk3WohrNvzZ3ARxkxDFK8p\n",
              "NZGBhqHf+IDrvqNW3OU85MvyTSY59TcOwb67GMSI2Y3FGuYrVTH/EJOnaEeCSaiM3Njat0UEDjgA\n",
              "AACKQZ41RRU8J/8AABJc5cnKADTDpOerCgPVUzibyPolkvSv8mQdoXUPrB8N0h8Kz5HCjgv1159m\n",
              "29OElTpdI6hXEo9yINQ2vQNMD4VWWbIoGixlQc+hqACip//6jlj0dD9YcUNvFJIbWKq87U93M0pB\n",
              "VydpxF3tX9x9LQ5F7wVAdQB/g0B4TI8AABUxAAAAgAGeVHRCPwAAFiCLbRrvxysKo6IMnrYBHMPz\n",
              "ygdpiZbEDtLQ4PChAATjCgaXoedfAqAzfvThJ5/rc8giFIaXkEIX0JelrA165EPNA20FxpTzx9uv\n",
              "m/L2iSeXKgiZNPCYOhzVGfASWyZn8N2PnDKPZs7e3ERqvEd30bO+NxnL/oPSAAAAXQGeVmpCPwAA\n",
              "Fis8UcFvBpeXxDknvjZX+UAGPqBSK9IDT5+Z5sAK9CwUTyA/s/9XbN3abpUfhenLjk98KjLQ6YAE\n",
              "+rYOmmeIKsfoV6KjlVi5O4kFxU2C5flPa4Ak4QAAAFJBmltJqEFomUwIZ//+nhAAAEFVDsO7bSiE\n",
              "0RY46wDgMngLA2V3dbqPAPPUWiRGcOhxByskGiew3KBZrLBCEYP/u1FUsIaBrd2L/lBIXo3wX3lx\n",
              "AAAAWUGeeUURLCf/AAAR1rUkN1xD0Kw6AbDdPQSCg/Qkwv5XA3Hif9pKrrrxO6YwRKOrMllH9X62\n",
              "CF5MXUlO3gXbroIJtaXv8QVFem2qasFikchun4xIpVsAALKAAAAAlgGemHRCPwAAFZw1MDL1EKLd\n",
              "Pe3eU6oIGXOe4kASYqOsikD+GYHlE1hugAJjMPL45R5o+ZxiPgaVH8dfDw1dFmP+vwI5NJ3BklhM\n",
              "XZodbk64S73CC0wbEK+m+/CxJ+GV4L4l0fOiI0CuRBj89AARcffaLhapfPwCokN7ifsoey6hEE7M\n",
              "1rmxkZsnGrtZ2a0LzN4+/QALyQAAAHEBnppqQj8AABWVJTjh83EvzFaKBkNOo0qEZM8FAgaHa26E\n",
              "zSIwqAFjB0jTmAynSnIS4xO/5KdmN4uPHwEnYrHLidDAK224mx2uEZ0pEON3vRa4oOMpXzvvLW2c\n",
              "2uqI4EUpdchnJHEaYrlzdCR8aAAyoAAAAFlBmp9JqEFsmUwIZ//+nhAAAD9qw0t7iKsBGW7DzWdZ\n",
              "CW420ejdHh+fooKsCkAM645PbX4/aAAbvGOInXEDRLBQoNdHq65MyCWzomSBm9bC7K0aVWAc7X4/\n",
              "wQAAAGBBnr1FFSwn/wAAEViSS8rmf0CVHniv7JJ66Hl93nTheXRkWgBLxI2/vjuYs/8Vv6/mGOid\n",
              "G3V1dIWuZuA7eVEJByNHX3tyvMLik15i54CZSVbef7Dy5/c9kzsF9/fAAQ8AAACMAZ7cdEI/AAAV\n",
              "DECsDL1EKLdPe3eU6oIGXZe3oAS86OvBwhOfbRJoDtIABaQKiadOl97/9T+HXiYkNYugmodfLDxG\n",
              "kNA5Q0O9bWpqoK/9N0mC4vSvIG9T2Vhzmf0R/D7C44Jjk0W4M9RR77QIKtvEAsB3eSne4sOEIYpt\n",
              "wwBQt4KYJFkZVJjAlKNgAoIAAAB5AZ7eakI/AAAUckRekALfxJo5yvABfRGu2vgobrVJmSfuddpD\n",
              "nS7ST5NGa+3vy5H3mSplLWgXhY9obScXeGT2SeJ3dLOH6sYHgU4hj+HZsTRlvS2GJNNRWbjgQejt\n",
              "9nI2oosZ3i0cHYUMIxlyKfnB5aFirQ9unoAPmAAAAJVBmsNJqEFsmUwIZ//+nhAAAD5fBo0+9NoA\n",
              "Ora8EeL87QPVyAjy4eSEavwuFqKLSh5ET72+hsMwqOqKkm8lwsPMXwu9hka5kL5Vihf03KAzXyVQ\n",
              "J+SK/uNEAGFrgufz7SkKcgpUpzuQi8nMuWIdnPsb6M6eaKL/zOpwWo5QMqPEa2zIgUWTjc0SDW+I\n",
              "Vw9Y2ngJL5IB0wAAAHFBnuFFFSwn/wAAENiSSrreAH/9NudXQPvsAcaA9l9NPefpTpwKT/Xb+5wK\n",
              "7y8rNs8kvBcfv3rb/2+4IZY3aExBqkfSEi/B1TMmOWRNmRI1FO1gq0Ru4JUhUfkrs5kvJuYp2wVn\n",
              "KW2Ga3kzXGIfGABDwAAAAIgBnwB0Qj8AABRwi1JHhKd+FanpEkat8Txm2k+bw/eYFSv3mvhAAuLj\n",
              "m/DzvqbMidube97wuTXHQ+TtH+ltAa+OBPOlo4o03ad1upJTIfKtkMRS55yxisEGQqYfr68fuzuw\n",
              "/mUAEwQALCYM2ziNkACABZmzHexXfn3gA1aI0gIij7P1SGXF4AHdAAAAbgGfAmpCPwAAE+s8V7PV\n",
              "A+HaLcqreav7zjGWf+Hhdzm3cUkfPIuiAAuG7L+d97/YLuoxzJiD+y9Yi+i1ouFj5FXusgW2JxhO\n",
              "7bRNLqaZeB2YAf0/wDVfMLTZBAlMHJOR84LaHGPfXRTVWfTuEAE3AAAAZEGbBkmoQWyZTAhn//6e\n",
              "EAAAPKq/tDhl+AjCu+DiFHx+LK+cSw7S8k8pmNmFMNJMtxSDo3IpTMgAg/gdZ+PpzKUeX38smE7W\n",
              "t0H2CRTzplvvj83+gBL7rP6XF51WUyGGo52ukBkAAACKQZ8kRRUsJ/8AAHFnlLMuVexHwmdBPcWX\n",
              "Nuqg9hxt8UmRzrSZ6b51ZhpXpBN6rbj0wAmqhQa+fZU2AYWDX2RMszepg3qRT9Kg0pQrAVbAejCz\n",
              "xJvkVRVyDG6wdEAjt09NzTNTyL0DuuhCN28dUUOXomVtdo03yuV/WU3ifc1Iw23LuE1hsFqXwAZV\n",
              "AAAAeQGfRWpCPwAAE1XvnFZqej1TKmzySbE84HeVDCLH+64qqYWdNML1YjF6qWEABOHSYbkxTWI6\n",
              "hrkI0XDQStj+jjn2G/PWTbgrbiu3DpaKrW+wCqrDyEYW9lZ7QYbiAY9OoHhEGRk2APVbTrni1UEC\n",
              "YQrlKgE27H5gCtkAAAB6QZtKSahBbJlMCF///oywAAA7/vZlk6kzobvZDYv28M4PvCDWuHbhSzXY\n",
              "w7EXBjlGMRtv+QAbN/B3lbyNRFYaZ/ML2dxCpHLBhODKsWa0g2Npg6m8REnzt88s6nkDr35jrNKs\n",
              "RwOlwZF71iFxsZdzY8414i5GVJITRGEAAABXQZ9oRRUsJ/8AAHFvc83xbV5QpuQ+woScHxF9S+X7\n",
              "WHgVtp4BvXypCkgx1kjVNQG3VDxk3AZNBbDp2mqmuNGS3JEdil+5CZkoQ45ExU89eB2vcVeUAEnA\n",
              "AAAAgQGfh3RCPwAAE141Dxsh8JgZ8aHWxm8Zf82/CbV7PRyLOZvoQPKXnncOW76AFVRsZVzpsTCF\n",
              "90hL7GFmyqtYHYF7ym418Qi/Sm2wrM+p1gRpVzDqWueNqj0oDCEc8JGMxnyIRs1V1V5Rrao1l9JW\n",
              "6ZO+T3eFJaHOl+H1EnafnAAIuAAAAGgBn4lqQj8AABLdNp+6arWpG2qZo/H0YmdqjOs/0rsQ8uPS\n",
              "M/f9fAA+/cgqYyN8wrtbkwibUJq2HE+IXeO46dtSe0oZguSUmQDKoE3abWqzrwyEWJKe4nT1TSDv\n",
              "+tAKmLZLFtOkuTACbwAAAIBBm41JqEFsmUwIV//+OEAAAON7jWXDV121//oj9ERoQaukNMMdV9KD\n",
              "Eb9NqhLBxOL/1WVACH5FuvUU2UvqqxyJyAcgzYaQIPj3U2Y1uGSnyweCo8sIDt9Difz2aZq4iEnm\n",
              "Ik86g2PadKsG5HwN6Ud5nud2pokJtw8OzwIHl6hBBwAAAFtBn6tFFSwn/wAAcW9zyHFsP0KbjXEg\n",
              "BLzwZ/v9vFoG4jTKHpLx79RI6msH+50YvIjXytfohQTWqA/Q08Fl/syr6WaxvMctfleagNSdxisI\n",
              "AACTCp6WfxSsACtgAAAAfgGfzGpCPwAAEl02n7pqn1j5Jqs4hcnC1509ZcPkgWRkr7o5juLhFEab\n",
              "oKuAF0ELsisCrVDVxE/kO4Ws5d4vKvxAGmjbav7k/poUO4/TtAAsgEPF1e8HgfmKch0bSUFiBqkD\n",
              "OHKMvmksTHbcYucAUnyRi9gMMJqZnNLbmiABiwAAAGRBm85JqEFsmUwIX//+jLAAADjcgyvcbkIk\n",
              "Eiq2WEZzu1gkzMPHqBYCX/ERnUQ0AAiDeTT5XDpUUSkzQ/vcUTg4m+k5GzBzHAjFaZ4H5aA1Oew3\n",
              "dCkafrAFqD8EDDTRh41fegKTAAAAb0Gb70nhClJlMCF//oywAAA5Pvbswlrm0Afw5a++CWltm8dl\n",
              "hHGF/IH5cE4tJgA7HgcPx0zgx6dTXh5LL+f5jxd4tbJGeuAvpzuca4BVEqDhWKWrmjOilHkqhmCl\n",
              "6sr5hXS8DJ25ttJcKiJjrVAUkQAAALRBmhBJ4Q6JlMCF//6MsAAAN6aUBlJ1kAI9//26fOOshoRy\n",
              "CmioIzJjyIwsgEdhl/0bMpo9d8Kb3GN7a81sMSpNhvsxyfT67GdDqjmTWEbV/Y28uv/l1GGQSt8i\n",
              "wLS+uzS3asM2N+rYVtL2lJtDHvrz9ZPp/7YZ3Bc9d3+aLoLY94dFcQqg7STRByM0Gx4nEirFWWwB\n",
              "q/+HK7EAKqEDgCQvqsM2w6eMOMlz62U/GsoAriKAs4AAAACmQZoxSeEPJlMCGf/+nhAAADcrvdxg\n",
              "Ac/SiBi34Yd1aKVcPA6s3CwHUsLNOwC5S/v5dRvjRtbvylMnUOn7SSjOTnCnr7b9R2m7ppt0Surk\n",
              "RqgaEZqce9wuxEMUN92rsUARF0TqYgswEz5fQHZH2goWe1eGX2EQafjwONjGRN1UFzjCI2x0mSuE\n",
              "K3dA7fLIWTekKlKBDazKrYptm/DvGXkXCFlITZ3STgAAAHNBmlJJ4Q8mUwIZ//6eEAAAN0fdbAFT\n",
              "rEjVCfQTppXDi7R49bBlMbGyuHaVW4HG9r/VxMABM/OYt9ohTKAlgNz9o27tUBqfOYgPOZsXcOKY\n",
              "vCdw5MdKYMne9KhX0Asad+kWFsg5HxbAj2tYdNeMEIvMcIIvAAAAtkGadknhDyZTAhn//p4QAAA2\n",
              "PCc9xXI7HAFTcfLvxzvHtuqyxV5zs9dA8xvbwA/VzuU+NVHgUMJ62TBlrtUxPBTkRUPlwbRZMXQZ\n",
              "E7Yt6X+ZgayW2h3jzoclZgxMqT79gGEomICT7wyCLjnMCUhdE17vW1zMmZ1nKHqHyPLELrHe+dkd\n",
              "mLRGbmNmCpqxFb74DksEP/2Cpyqmog89iSCcfBi+fwekGKWaA9Kf8g4MLhydwOpzQFbAAAAAdkGe\n",
              "lEURPCf/AABwCd7Lhq+jen7YWd0XUhv6b+wCSYENJAC4xMoUU2eyb9tKuVn42sSloAQjkCUoi7bY\n",
              "O4nma13gjHQLIU81ik4kQ4pkmXIvCVis4knxcE6hQvU0e6EN6lv1+HI0/uFHMotSmSljLMYhZCgA\n",
              "ekAAAABnAZ6zdEI/AAARVLtUmAEaYoyy3X0p42Q5VEn3nYdIE++oBQVT+OtW5A6rIELJZrtlYSbZ\n",
              "yFK86OrT7hOk2INEtDz06jaTjWNMONGQrVTUq8rGEPlWIDSwopRUsSDqTqP47KC4bCBlwQAAAGoB\n",
              "nrVqQj8AABFdNpQj1rl6PgUMrmO4rUQ2WjQjWPNRNgAnDpWjdvFut8N0Vwmd9xs5MST2NHwqPa8c\n",
              "MA4ZzH9aPh9HHFiSzG6hcnYQliyoHYc+7gWQu5R+zHFkljryYD8x/aAqWH6XEEPAAAAAe0Gaukmo\n",
              "QWiZTAhn//6eEAAANP7GjT7x6SnzZOAFZ6FNFV74somcqUcp1Tey0fqCStzzcxK1CmB70GkB1TH/\n",
              "3mUx7yuANzJOEeRrscJ19OTN6jxaraYQtwdcmcHJkvnnqJpvX929mpnbb0why6/AVxPTX1gl+ImV\n",
              "NOEEnQAAAEZBnthFESwn/wAAcW9ztGEbibK5oNV/XDW8sIb5feKe9cGLFGQdWwJim5MiJxJ3iRJz\n",
              "5AW8A4A9tGLfPfuVuJXsVzZ/gAFTAAAAeQGe93RCPwAAENSyDpA16kKHL/6lr9UEBZUcgXAvemt/\n",
              "il49jOWmYvAU2oswCAD9t//zKIzNNeam5WRxvzrCDm2F+fcgo6DuNEzBdinYlaKK3bKHDwvdGcQL\n",
              "RMsxSpHblUeDmPYEpkVm8JnkQ6lwavDtjUTn6JvgAoYAAACIAZ75akI/AAAQ1/6G/uABYe/vfi3Y\n",
              "nDq0voXCyszSh8QgMit5abbutGFMzqA/ZvDY6D+Qe2UoUuJfPc380Uvq0gatr1lMTdf0ox9Tlr+S\n",
              "mt4Gk5UClkzqYD75eWQCAj44n7V+L0E8Qp1NVZxCjlu/R2vdGyJ9A2PY3yWAet6XfXPwVPudpSAH\n",
              "TQAAAKFBmv1JqEFsmUwIZ//+nhAAADO8J0BVcw7HAEO+clcc7x7Uzua3tCii4DzG9vAD9XO5T41U\n",
              "eBQwnrZMGWu1TG8Fjx96h7VvWMkqP/J7uhJKxrnEJL3lPVWcQqfHcypwrdVf8DMPX0oKdUljyPxb\n",
              "CE2qOHR4kVZNRNsGFeGpbqB4le9RX1zJzw5pF7WPxpOZomaLnph9n/Y750rQDoBmj3rL6AAAAH1B\n",
              "nxtFFSwn/wAAcW9zr2EQaCSkf0IFii3jG5Dv8AzrOeR1BG8mNGmOAsnMAVx2YAQiUwf+RHsCHmSv\n",
              "mrYw2GqFRpqzW0W+cjqS474I9YpdptHbUCRrjUzsFSIbInIYMQ1UmdIxiypMLP5CcIggWVQooxyp\n",
              "1kC+cDllwABVwQAAAFcBnzxqQj8AABBV4Mv/Cf94SDFNp5PDSJqteSGKfBcL//CdEE7qq/vwAJ27\n",
              "ncCKYcicn59Q4EHS/VbnQrFpT7rFnKRm2dLSTtDiY57ZVW5Jz62NrU7gB/kAAABpQZshSahBbJlM\n",
              "CGf//p4QAAAyfCc613EPwKaV8tHoqCjvZQ1j9DJqQw/AHIfvrtVwwcgANG9yAW+tEn6ux6SZj2yP\n",
              "X6lsyQ02q21WcItt9XgO5KCZ9XlvkxiOvEGoxMbGCTKc2K3lr9fQAAAA3kGfX0UVLCf/AABxb3Oq\n",
              "LmfW0WsQwAq6odDsTu9s5TyEzrD1JxIgoony6qHtCgWg7UeI3gbjqqMxght7SReieCrwkSBvdPkM\n",
              "UFQE2lS71sTzwhbNO1Voi0Ph7V6SH8ensm1fRF9AAtrEhLlRhM0qy7E8qa0lU5N+kVvAUrj5d1AB\n",
              "ZSvhkwq8fNKmDFHQ/xZVTsWvFc4+Lpo7rISO9buskhAxaCTEcNCpb9sPuyj9slVKFaLLYzbKPOub\n",
              "bD+VSnWY9Yp3fRkC+RoolPkuQTcHnRIdNLB5GzLDCAuMkgA/wAAAAHQBn350Qj8AAA/XpG0DgkBe\n",
              "EAJUZ/tmpZ+CqelHrSnjOVK3/9iLjtIfeBul0ZZV87n+Fmsy5oh7sw6L0Fp8kBq9fd0Ih0Ay2f/L\n",
              "Yrg0ctfVEJhFlBCywq1Bye454IOgpBjdt4OoD5592wBTA0YXv8aZWwAbMQAAAI4Bn2BqQj8AAA/f\n",
              "+na4GOoUZmD0q9gyn7G+vABm9OE2kVDNnDjRRIHgyiZqe7x8H8wLACWC6oiRZioK8OEp2S00W+8X\n",
              "8lhf+NNHJl+540I3BFe45xJsKy3dwRrPHW+YnkO6D3SuKdWMPcgvjcmkhj+exhlbQVVZtpL3gTit\n",
              "J1UPUH8ts5sNtnsCjBhKzIF3AAAAhEGbY0moQWyZTBRMM//+nhAAADEvIsXDJf8y/4upA2bsr6F2\n",
              "hccGfUEwC8DStb+HVt+9MTms6ojDvwilWDlg2UzNXizLUpS9c69KS4ZDztrSfAupmMMCnNZQCoRa\n",
              "YnyqnMKRgfZm06Egt8KBLSi6DDetSgHSeC6pboNwb8CJr6/Sx1AYEQAAAGkBn4JqQj8AAIcU9pzK\n",
              "ayz0oEbPAn6n+XoS3iQ6btayww4UP/3FabeAslQ3ouGB15VU6kZzqATHFj5R1TGSSo4qaIBlisAt\n",
              "w6WGZnhn8nxOWaWlryFPtxlRdlfFHJsjmHq3tLChGjbUAccAAAB3QZuGSeEKUmUwIX/+jLAAADGe\n",
              "tmV+OecoNYhqjs4TRiks04/8M3ax7y4UGK1qZQAEBoi2CmlZtHylDGmDyTlndf1PY+7bM5Msmdkf\n",
              "RSj002QAAITyD46TRaU5HAugmCT5uqxhuTC3QtGJh+3LekDfghoiD4zTKYEAAACWQZ+kRTRMJ/8A\n",
              "AHFnlWR8Eh+BTgDhvP78toASC8KJjKx85Z/5x7gaYhnAHtcMKMj6JmcsdKFyU3zM4ANoGJ/WJOQw\n",
              "gHVKEfdnVOjLHPyyD8IPhceOQ5Z8Ts39BPsKLdDY8NC8G5oAE+joTwXZVco6MN/SH416Kbz7W/nz\n",
              "l/hCsrIJExCUPTF0x9MQzEExenvC/DayQAE3AAAAaQGfxWpCPwAADy47YHDl3FIpXsFoKXjlwykQ\n",
              "efBxEH10APe6kcl99LoAE6wjOYl9oSND5lPieKKMxLGmplkAqDPWcBkTjDpFm43k4gn1C8lcNc4P\n",
              "VudGcXRYEp5LXn4DshYmbcjZBAAPyQAAAI9Bm8lJqEFomUwIX//+jLAAADBetmV+Qt0fAi89Z7r/\n",
              "/d96uyS3uegeQccjirgrnyQNJnxK5rrqyyZYMWoeIxnHfxysQAhrnmDgPvak4csOMjEFSEyIoyD4\n",
              "2SGaK6A5TKeEYEx9/SpznL9cTXpK3UDzkGI3pT+dHL/GXBEgVN5A5LxkiJu/jmrdETwZ+nBZQQAA\n",
              "AIBBn+dFESwn/wAAcW9zoA+Utxv83wGcUZsCAf5JKuCd4IIgzt899AFbi7rPAgKTLLGAEKJjueru\n",
              "f7QdpNE1cfZMBx1UcjiSo2KMTpNzigsmWMetNLR01LsaliFrY/Ffn6bqsvpFUr+mO2Cl3ou56zKy\n",
              "d6Cj06tA/TwgWL1U0AA+YAAAAIEBnghqQj8AAA7WO2BviJIdie9Jv1F0us6RG9DMj/w/ttCQ2VBC\n",
              "wAmMw835CK3KoL+h1HwSUTUbIaU1dFmP+vwIwaL2oMdUTw1jEeqe8tJt4V59g8ay89VfU2XZg2KW\n",
              "Kik6D1sgqjsPQ8loVGxsax7/NUtLwM7EwGd5urOctgvkEHAAAABcQZoKSahBbJlMCF///oywAAAv\n",
              "HMuPNh25tSuQO2QR1VlHveIbNBZ7O8geZLfLznkrOZQ9zDWPfZNYazQuMXsUPUTfo/nEt1FaNQdq\n",
              "z2u/ll92q8oub05Ib90IKmEAAABTQZorSeEKUmUwIZ/+nhAAAC1d6HZyrLqxL2hr8pehG3iZvLyi\n",
              "DiAAXG4zR5WwBZXkJI8/pciHZxq8qmh3m4P1Y3Js98pEHVNjQ7/NVV4mFTFYLaAAAABsQZpOSeEO\n",
              "iZTAhn/+nhAAAC2cy51rOR++jLIUkHZiKLgtHHFbvT+f1TJFLhEeqQwpZSxUbFLQX4/eQ+ACXUIj\n",
              "QZmTQXlFfN9tPsFglqbkNjGc5+fWI9S0ljj7IeDtvtnM4TAjLLjcn9JmT+o9AAAAoEGebEURPCf/\n",
              "AABxZ5VdFrqiJZYcOUImrNshpEEPbLCEnpCzZuB/ytxXTPOBi05oABBkzTZ3zzggRodwAzYuEwx4\n",
              "+BpUPVf2SXsDf/+d5FImf/aCFGlhR4Mi2OQjh9sKkPzVfUu6ed4RuWDZ4YC+kq6P/LH2E1L6XCra\n",
              "r8dvvQZHvfSUj+iGxpnNB2sPTcMcSkYIDIGEFBx8xziP9+kAAccAAABSAZ6NakI/AAAOfkdVSwCW\n",
              "t4SDFNp5fcUqtRW1j5khndpzKgAnDpWjd5cj67sF8borhM77jWOFzATUaEXqOXcFxftYENuKGrMj\n",
              "L7D7QGl/BSABUwAAAGJBmpJJqEFomUwIZ//+nhAAACx8y51rrUfvoyyFJB2Yii4LRxxW70/n9UyR\n",
              "S4RHqjvbOZOi1PTpsAAt4OiXjtGPm/qNZ+dcFXgUaMCL85V0X4kHix83FTMWNfJfVAIurohbMQAA\n",
              "AE5BnrBFESwn/wAAcW9zknybd10CdTNQTKetg/j50VUy4Ins/o3BAMtPrm462PcsCKMhzloLwrUg\n",
              "gEm4NIBenSrT5qedGeXB5Su8/nQwB/gAAABvAZ7PdEI/AAAOLDzBmzMPxeZB3dNL0GMbQ6JVsFac\n",
              "DcZwgUQ4nCAKbN21+ABOduBdtRMyY8xrgSOq9Sq2HvZZ+ifkfIXe2vgNJKE1rB8fIvzoFD60TH26\n",
              "bAvgbNMD8YJsCC5cjSyro3S1RseeAE3AAAAAbQGe0WpCPwAADif6drgVkhGIjHxpY/7rM5M6/tG4\n",
              "/Ava/Jx8L2aqamIAE6n6DQKN+IHstEXryk6E+2sEKjGrV87wBy6urBGRSeGE9oWegfFBY8ymj2BD\n",
              "TEf/wBHUHjSscz043qXZ/XnHTTZAAYEAAABuQZrWSahBbJlMCFf//jhAAACo8n1qqMmuBM1G+oIU\n",
              "VUpErD6DMDZ5ZOv/Edik1ZeglPgUC00a/bakx94biObspyjd9Wp3W8GVRFmSFbbNhQjIfWS83WYK\n",
              "wTeAZYjtWQEyrU3U4LD0PlFjcGbRG1AAAABOQZ70RRUsJ/8AAHFvc438sMoGrBSE7SQKLQb0tfso\n",
              "uFquhcTZBuYLPHuxF+vdNrrjN4IUQovCzVizmPuItPe3G8I7uPBrf6d8G38pgAMWAAAAfQGfE3RC\n",
              "PwAADc7lsYga9SFDl/9S1+qCAtMfN5AKraj2h5AMUMt3GTf7Nk6WYtqkACcxVzZfRAspzcdui6U6\n",
              "srH7UuYgNSdkyfuXj/oNYAXhL+u9l+1rwMi2tH0fq8Ox1CdWOqmkO8AflOf6GYyDfxke/VSu/lMp\n",
              "CCJEgCHhAAAAmQGfFWpCPwAADdE7fG5IAS3iTRzleAC9Uo6THG79qS9Ji/mlCzhALuoPMRqYTehb\n",
              "vG3yeBqfXgLmQwmTInzDZW0iyT69/bODus8k7erKaXI8eZq/BgklxMRwIHhpCdRThjjhPrQtFbxM\n",
              "8wCdvZi10CDVRGvAuXLy30vRcZtvR5e1qDYgHjwIZ/caDQBGKzOXU9lfovxHUmQBTQAAAJNBmxdJ\n",
              "qEFsmUwIX//+jLAAACpU/qz9m6Yx7LACL9wGy6tcv785zaIjZqoyyIeZ5J09r4u3S6DqCfrye+aM\n",
              "LUD3BUYAAhQZ5jleZVPD2iEkGyZJVKwYc94kp9rvHktrDUKf7ddaUg6+QxR6pXSi5a7nhTa4zONG\n",
              "phQl40QEpfJixSGBJNdr7EWh2nZuSSOfwVKA3oEAAACjQZs4SeEKUmUwIX/+jLAAACqcy5IT0Fxi\n",
              "gAlq557L9RPVyrceLs07vVOYZg38jxrusH7bOJtWDmXdUMvHLnbM8Ta4y6rRuj4+QmGa1hQTf+JH\n",
              "cQvxwZv5jqS5rtwEj60HRy16uKPYrtAoXAsvyp8wixIDMG+lMT80jQ2Brh8ig9MNBHJQOkvswbHJ\n",
              "HU4coUyKLAyKrdRptdkhN0d4G+OnBOoDewAAAKZBm1lJ4Q6JlMCF//6MsAAAKTUPW+sAHG3v0yrI\n",
              "3hVmLRoddLm043Frpu+ZnZ/a567EEWcYbBo1XxIfK/ZyFzWE55SnMd6Q/UDxd0EF87RDpFzHqLBA\n",
              "+iBgtV5b8jnPKFPghXodtnJVGbLX/K71xHpE/3XtU/dvGlF8yetUi7BziUxIi/Ik2OnXupzJ0bLk\n",
              "qmMnh/HdjVIgGZKN/g1Zcui8CUquToeAAAAAh0GbeknhDyZTAhn//p4QAAAo1bM3UgBuv//iZ8o6\n",
              "dSKNNWNr6xLLXsK89ztUzQvaacazGDmximvX2Mz4sHDgiT9knfh96Gex1AtfqN2RxXPa8bMV9OnV\n",
              "pO366LClqv+PloFq1pqFalzNFupzs7joEJOFv3p5Ehc4D165gaPLdMr8XwmMYf6GhQAAAMhBm5tJ\n",
              "4Q8mUwIZ//6eEAAAKRvvPDhl3oBjf//+EHp/DBsC6REdd7DoRAfjxe6dbzJKAOK3/7kkZ3gYRANh\n",
              "YGFn7gqDfg5a3GoAuBoPzbdBZ/eNLXBsIk4nndl7aymxjuCCQPdxCySMmVT97UqYqQ/FRYcOFKSx\n",
              "VqC8jSJ7TTC2KaGXVAV1x7pJdpxJjdPf1dGkj1tcMj+VjSdeMzCwobqKxu+MFiTYgyW6U2o3Snuc\n",
              "3U3ayCEOIYNbz4o8is4i1ne31xMt6SMoWAAAANFBm79J4Q8mUwIZ//6eEAAAKOwSDMbdNubm+4Av\n",
              "u06ls9d2jTaXiyGQlhBmJq5xhrvihCEhl1UgcA1DNhx0FAX1J5A9LjtI8O5tRXlu9Rp4Txhfu0vD\n",
              "KpObeas6kya6c+QLVoZXNDCjV2cgxXWLdAhBzGf//64BTebr/JfRoFSx7cRCpnOrCwCZ2eNvyeaP\n",
              "MRehsbBaASceS+ezflnH/MHlMEOzpsrN+8sbBc+fstmGSGXNPxCDftzHfDtWAGV84Zhx8CCjXY/7\n",
              "5TRpOkYDISBswQAAAHdBn91FETwn/wAAcAnexESWH5esYURmdw7vX/LkIyIWLJHag1CT1WmgQFMg\n",
              "TAACbur+Kwrs9tXVcWc4KN8jv2DaOqTujuQX7ivHA2sxU9g6meMdP04adCEKcHNQQgGc6otQedew\n",
              "EiZLkq38/Z7tLJrHYDFiAACJgQAAAIoBn/x0Qj8AAAze5bgHoJkf4116aNX6qzVYVLcNWGVfams4\n",
              "9lNfGkleOkAC4thKbw2n/9g72LXDtNA4c5L6DfrCk0inSsDm6K9nSJFVYgGzdJCUrRQzHY38JUT2\n",
              "WF25HI3JWaeKCezoILU4sT8ediMD717UgOHph1/j5OL1PdsFT0TDcCbJ+l4AmYAAAACcAZ/+akI/\n",
              "AAAM38IVKwCYLIAZ8/JMOdNvVo5xG+61ImSGg27/MCrNL3HZUCYtxNpX8uza3fIWg2fxzoyPHPvs\n",
              "57PFsSSnDJ+Pt1AtPwTQjxfkWwcJ4B0IVmW288sEKDdmyVtD5wnp5jtdluoq1t6YrJWbwxyFz9UK\n",
              "OziAepAbqwzy3mQ9Sh2zEGQJgBBUqPF8T2+fNlDFLfQAADegAAAAeUGb4kmoQWiZTAhn//6eEAAA\n",
              "Jqj8wxqzPgE4/gkEll8LowhjXfn48Tf3llCFOYlmYVMQ/vyFMx2cpk8dYqbIPYKLg+zIJc3vXh/e\n",
              "ru7Ntp+SO7K4AwKpuhhx6KLsGpMhZvEgCM1YGud8G48pPqCQAlcfb8IvIcbXCtkAAACcQZ4ARREs\n",
              "J/8AAHFvc3zdVODrIto4oLQyUlnkQQ/VlQl4fr1dmc/9tD3hMHMaoATKC0Nm07uH1Jf+mrJOmpsE\n",
              "Pn5EcwLNSpp7Ymw2FOz5Oy1RAbnPWb/yHvEtw5JI5mxrh7PHExzn8EwvVXm9zjujQUJibGDKXEAR\n",
              "Is6RZyH0GFzMU8wWyrXvGqPcee3N/zL/bci/dRMVJZcoAJOAAAAAywGeIWpCPwAADJQ+MqwAjibG\n",
              "6gEXkcWdy1UR+pQQo4LxzeQCi1klhGdFj2cVKxATinFTic7BVA7uXq1jv6N780+Oy0jlbHJODOZJ\n",
              "D2yJ2qY0OWfTDXK14uC7XQQ8ic4OLawz33Pz2mFmAtfMarZ2cy1SFKkdF4Utqz75AlUuvEsqG5v4\n",
              "uKwNfx9hINkCdC8Iu0C0UfXtgRzRDyRCQaoxZeVpM4vY85ZsnjE8h+SwTA8Z7S+ivYQqFaIju9ST\n",
              "QU007H5t6QXFu3k2rAD/AAAAbUGaJkmoQWyZTAhn//6eEAAAJaj8w7ttQnHIL8BnkpYs/w7AP9tM\n",
              "ArxLsttmcubKltbzAbFLQAqAKi1mEd8uUe7074tQGVdDSdZrwgY7lW931j58t1VUQIOYYrKRyvfN\n",
              "xhDOq+T9vHq9ZGm5o4AAAACiQZ5ERRUsJ/8AAHFvc3ilW+4ABph8yR3Jyg8lRm/iO4YHpnXdLfpn\n",
              "aQ/5zMNAgoEyT2PhwqXPtWQmnVYjy9x7xKEfnLHFlqPuzbfzL0EgiXYYvh0HZ3P7AAFHbhvor8Rh\n",
              "zVa796L6CGRJe+tJwmgyeopCftyUPLAqIARvtgooV/29LFbn/B3EBV+lRv0UiFaN/rTf/SX/7WIz\n",
              "ov8UX7wJgBQRAAAAZgGeY3RCPwAADES6ns9UD4dotyquFHL7OM5MAGYrzARNQWxJjiJlY2GI5YjE\n",
              "3uxVZHi1ULX/esqyyzDnO4gEUx3xdkvRQ/Alcjfjejp9T9tSwqGQIa0XqhEeyihi3pczI56RlgB0\n",
              "wQAAAKoBnmVqQj8AAAxEO0OC3g0vL4hyT3xxUrUA1JPNLL+HBADvABKlPekrMhw5gps7DKp/Ct28\n",
              "mNr8CmExdeflaFhIQG+84X/6PAmXO64oVXEOzyLSFf1mpuSC3pq8nRfo1N4H7tgswsjsat7DNM8v\n",
              "oSzIEZVN6KYx64bYmWrOKQxpNA9bxRXnVpoTc0YcbZNEkJ+7bBQTSEYxs0sPVQ0CJw8Ix7XpIk6r\n",
              "CEAFlQAAAKdBmmpJqEFsmUwIZ//+nhAAACSqh2HllbADRcWwq/IanuyLMp2Q9COyDj3+QmKzkL0z\n",
              "E6Fhn+nf16z7hZKIMK80FtcbLSWFn0mcj4+VVuxbuUleTWfPauWHkL/ZJj1c/e0e/fIFP0LArQxB\n",
              "47Irw433BGW/+9oGa7HBR7bhkck00xwxi5zyWQKag7QOGGnFTHKbTNoIDLztJABJUgNxESO43yWm\n",
              "7uFYlQAAAGJBnohFFSwn/wAAcW9zdKVxD4Ob9f9DKqLwK5dR6rnwC/Ln2LgZ2E7D9T+ISlomlws9\n",
              "r/Dc+46Awizq0a2zNA3A+dRtyGCU4CUD8IzVAL1DGnhjw6EghioPNWqZ29gaAADpgAAAAIQBnqd0\n",
              "Qj8AAAv0wGVYAS1ucmStODJ9u37Ktf7GVUdHfXqju+5O9erSjwSHXIeQBTZu2ibx2mhxHjl3dMXU\n",
              "N7JtweH22Rimdoo3F6FszXVhW69CIfJPtsmeLQqb8QOPUhN2PiC7u3Drm1e5qRIoGCEM811ngRV0\n",
              "qtEnTO8l2oIHBbzgAwoAAAB7AZ6pakI/AAAL8TKulDtZkYgj8vS7fF5f8aMVt4ulCdSdVP1+2jnk\n",
              "xAAue40Y7hMvfDJd69ZfMzhfkKOdDJDHI3b3H/1Q3wn+LX/ZFMl1tW4ykfTEF7cl3znR/YubtfgQ\n",
              "Ax0cGP9TfAxFBeca6EoTMTFegzHRMfWF4Af5AAAAikGarkmoQWyZTAhn//6eEAAAI98nfW/ipMDR\n",
              "0xvKvJlkOiIu+Xs8Zj6SAvsZEnP9UtBaHDmKGnwATs7fHrBTQw47AvLFx91kFaSXNOuiB651eiyD\n",
              "rWko2hgJPFEC6BNOgkngTTwPO0Uzo0LSLSn7KpHjmtkndYLCa2b3N714ayDNg/sMCEw3dyAK+AAA\n",
              "AE5BnsxFFSwn/wAAcW9zcKVbd10CdTNQTKethCtZ0Rby4Ge5zicAoqqEZdIOpx6aCKMSZGs8t4zo\n",
              "CmhLhdIE8vytv2wg6z/oRi4nDT2ABJwAAAB/AZ7rdEI/AAALphqYGzMPxeZB3dNL0GMclQ6/sLxW\n",
              "/H5QIgP/OOzGTt6r+ygBLD48YX8VsQrKyON+d8v8hMd6IY5HVj8o8Q7aEYQKRwLU9fM+n1VEjmO0\n",
              "n8rVrpML4r01Vcov8Ah+oQfqKACuULhgil+PyURfhFlYGVFk7AAd0QAAAIMBnu1qQj8AAAuikpxw\n",
              "+biX5itFAyGnUuSEYuPsoYuHZlii6vKXlznesGQ/AAl1y+/JD2uQvPx0WlmDowoRFw4Exe5qzeIe\n",
              "RWj3Cmw1fA+4vL1d0Zc3vBJAvIYFbUa/hffDyjaeyJYNvZ3U3dOSPMSGsWzVCX+3uaTMXkvsm9gb\n",
              "OAC9gQAAAHRBmvJJqEFsmUwIZ//+nhAAACLfPYafew6AHHgwCPJNOH57KTOjMcB0yVnbc8VQ3keM\n",
              "FG84bFFPV/o2SepV0MF3+uTy9QMGNRaapbS5PHPlA7nxlU4fVTOGFezjwGzs9dA6RkWdMoPjmCVI\n",
              "9Y/SsQOh3hoChwAAAKxBnxBFFSwn/wAAcW9zbLes00TAD/+/N/9hwJvh9R2oWPoDn6tiKxw7YT5G\n",
              "34pzvsVxxIiiYF0E1DNfbvcN2KCkseraIsWxJ8YabRVqgSbMpWAVQBL6sWBVGU/ysuEoKqHXP4Hp\n",
              "oyhHFVpxGG1z0pXPRucj2WKiVSJg5mo2iVxnvfTUmPSY89JSXGrjDYfpu7yM62hGj9QjTvIRqdw8\n",
              "prYI0VZWq99KKtgdAAVsAAAAYwGfL3RCPwAAC1hLqQ3mGpBMeZWrdob+tP+Z9DEoKk3xM+HgMUGk\n",
              "8MWTmRU0XQADdDgsYg6nX2f0NhlGOjC5/dChKebrtwvyqObtCZrWW9gJN96iWsB405dXW0PxZPbY\n",
              "K4AGLAAAAHoBnzFqQj8AAAsVm0/dNVrUjbVM0fn4iU6xI4nF5Ayaq+VoH7eAgAfi1x05IoX9NS9E\n",
              "lujCKp+tuijrwsQ27sCEDxi+ZC1r5PILF/A9XDd92jTkPTTWcPTy29XaZX39K0vvCX8onHiB5pj2\n",
              "7uZrTjGnPLzkaKGodwC7gQAAAIFBmzVJqEFsmUwIZ//+nhAAACGogJKWR4azg70Jv3vnbMaBq0ec\n",
              "2EB/EsJ6MVYuGEuZi2qzYEBu7T9b/JqMFHgBOrOowz2X9wudYYb5Xj6kEwSZ2w5UvBiOKxQV9vjv\n",
              "gVudzLccZKNwnu5sjUbweW7CoCBBGobtRy+CYHurcvcIOOAAAAESQZ9TRRUsJ/8AAHFvc2iDMIHh\n",
              "ANbD6eQQz3f/tlvOHkFUumug8n4aGglXjQOdrjTD6mhj4G6YYDv80mYDvI7Di01XFSv00GhgHeX1\n",
              "uJHtyne6qbM4tF1+lgZ3Az/VTtk0Swm0+6rs1Wm5++8i29nOCNb6yZbgKiULl23/EU9EzImBqdSc\n",
              "nAfIZAb0gUqcx6hzUK6AkdLqaK1qQLv+0ReeWk72d+3Rx7mc3b50eNEQDRtJpylBhAS7Jvm/qjSV\n",
              "q0HVnbJ8vfKC7HiGd3nUnieCdivfQfCkqYgRsjFBFOtR9LP5wsB9NAvkfUqVxCicU+E3knLXBq69\n",
              "lYzskE+vPReLwNk+L58HI86W49IwjYDq4ADjgAAAAIMBn3RqQj8AAAsSm3a4GQFK0DCzEJfChnPh\n",
              "I8E7atnNgOqxWlMbGh6Ki6Bqvz6AE0kCttNkDuU/TqOtYu+JdAspdLwEoXbiUo5IL7pUTeAr65rB\n",
              "lgAqft2PsQkbVfoGPT8a2dcjjww6k9k4lDvfP40//T/4QBFADEBMQHxAGD/7AsAG9QAAAHNBm3lJ\n",
              "qEFsmUwIX//+jLAAACE/QgbKXGS2cDmcriQMHebvu4rUmeQOvbUdjU0AjfPlZZgBME01D7VJuWFg\n",
              "n7S/uhz72mksWksvrf8TFDljUPuMEF1kYa1XdzP/ccjwPm7kfWSwIwNWgYM2QaeqkGH4QFVAAAAA\n",
              "aUGfl0UVLCf/AABxb3Nk+Ft0j0ANNytzp7DgTfD6jtQsfQHP1bEVjiM4r4VS6op0KbWHBedCCFY4\n",
              "v3pMkHJfRmbiqMrkJ6Mk3cJRiXoQ23tEQlSRAzPoaS3r0TYdysVLSos+z9RyUQAIOQAAAKwBn7Z0\n",
              "Qj8AAArIRakjwlO/CtT0iSODHA0jua4bw2K7Jhv1wAPvt1Auj7XBg1Lk8CEyhpFyN2/YE7m3LaSI\n",
              "DmSAkPn0m83ieB5n6RAgj7jOHf2FNtQ0TE1aAZUqkwlRxl0ab6raKcb+Sf2dIyKKKcVGJv/8mOPL\n",
              "3bFFahTAagSyARMmcMiRv84tDDsG4+6BRrKBeLaKvBQuFvkkIDZihnUCmQI4OhSFpzBEQA9pAAAA\n",
              "mgGfuGpCPwAACoEXnJrvxysKo6IM6Wv/pOPM7V6g2vEZPXEJqc/srix6AFvFyjrYpXBAEPpYuYvS\n",
              "VLFSARphb3ANo1M1TgD1/5EgDO0AGhPV9uk/ewoyK+pm7v+rgIyWV913fc70hI25xxtTnfp1mrsu\n",
              "j5v/b3MQT0bzH3RpkJtasJIckQxG034k54Tc5qqxWkUCeL+5XVGAJOAAAACXQZu8SahBbJlMCF//\n",
              "/oywAAAgP0IGvXGS2cDmcriQMHebvu4rUmeQOvbUdjUzlJo3vg4d8AIg6vJDlYkN91sRWnc4z7kM\n",
              "uzsHg5dliV0IpP4pVhIc4ANJ5DQyEGY+ENJvokR3pH0eaZXD/3C+hlRhWlKJyJEwvCE/UKP7ZT8f\n",
              "YRgz0ru5ONBH//o5qbJmn2uthS/7Rn7hnwAAAK1Bn9pFFSwn/wAAcW9zYhEweFHtEAJR6+3/tlvO\n",
              "HkFVENo95L8NDQSshWw+tTVT2aKDxM3Gwkd9NJmFZcMtgGlps5iUyTY2eYMk8+Ee3Kd6FnaGC0Xe\n",
              "yxhncDWaKmlM2qXEu1nGX203U324lqZpwRg9hTLcAQSWGN274icGCbCFrYGPJA7un8MqkIFDEK5J\n",
              "XSZ2g29/UQVQODzsIRHpeXCovi4vzCByl5hEEmACDgAAAHgBn/tqQj8AAAqCkpxw+biX5itFAyGn\n",
              "UzK4kieecMjeYhAOawTi6wLp5575EmQEfU0sdJBTZHvy4B4y5OljDuGysEKMxyM6ooeCB2SlL8NT\n",
              "OJ5sYyqDlSa+MiG7WTJp6x+/qG5GHXYYj+iqz6bkf8E+rC8H3uIA2YEAAABjQZv9SahBbJlMCF//\n",
              "/oywAAAfM+/j3V+WBTkYFbB52zA938i6f5lCpH95snmRNIAPtx8THWceP7TGcoiWnPQFlUAkyKT4\n",
              "qmbLqcBgwBEOhL13hW4/3kfoRh0rqtyQ/likYEHpAAAAdUGaHknhClJlMCF//oywAAAfX3tqiHQC\n",
              "S2deyGxhrwOJJbexnc1u5QgLQgWzUTGAwAszXe/+JUKedHo0sHKUfecEIGZWeCxEwaxAPJ8S2y3d\n",
              "7AA4TXKKNUIs0up12BO9TqYOVBRQ4O1aXo6Eb+0hR4LshQg9IAAAAHxBmj9J4Q6JlMCGf/6eEAAA\n",
              "Hk85LEACavg2+HAjedCtEdmVU0bVeRRIkHO3R5Xt3zNO6tqqNmyIfq81HnbckDcJFthGzjOrBiC8\n",
              "4EC8JSzrKIuy+eZc+tmr3y1JypmzjRFR9OayDyFojMdgKl4RQBxdtZUjgYGGn/X6thBwAAAAwUGa\n",
              "QknhDyZTAhn//p4QAAAefV26WhDysDJVN2lzjTUJTj9qxFhiZCY/pvpV0VwU7H5w4QMmOV4s3Qpk\n",
              "2uOvctusBw9qJoBq73grWmSu5ncQCF1so7iCreS/9FmRwful1xNcstmdQ1l9FQwbYbvrUQLPS6Qv\n",
              "SgZVQbG24QGDAtDDUfWWfnWm1HxvsGeQRXDWRRUs2n61p1VLwOG+TLBZpI0gNhlGlJOONnjK56wj\n",
              "0CmHmY4cRlOut97eTKCi1UFoys8AAACxQZ5gRRE8J/8AAHAJ3r7+VXncAJeh9e6gMRFE0c2E2B2X\n",
              "6SaETOQq9DjtZd3mWnHI7m71ri5Djk8cnSYCqDByLBB4DjILgZnCarjCmNVTN++YJc1cS0wbw0dG\n",
              "hf4McHABGAynIticOvaMRs172m9pU7BwfdF+fYyeYgP4QkhEf1w7pYk+VvGpjRpPvr+XqBS0JIGW\n",
              "CHanEdgai7sPiATBJpwNNZqEmS5f/R10OYiAAPyAAAAAbwGegWpCPwAACfJepIzzv0czjHaBe2bJ\n",
              "M+UfljRpw1gXvXEsVANrrbh5rPAiR+BPnTQl6CwK6PmvJ+ozOk1csF6XEj2IL0iPJf/5w58Mawz4\n",
              "cjJvDKM4sPosStRuWtlvqegLVhWxACsVjK2vogDUgQAAALtBmoRJqEFomUwU8M/+nhAAAB3Nc/DS\n",
              "w9gAfzfnUtv9oQu1FnfvN9HAp8IRBGYOlUhRlzKKfcorKoFQ4cnb/vgcI+zHWgYIVcJDlqGhzieQ\n",
              "STtwihQOxR/5eFieXqrcAaXdoMT1avUR/ocSLDUiDJIQikL0yOBHnOjq0mTAXgiYq3uEs0/sQq5c\n",
              "CQP9961GKsJw3O5MBR9DYl0VVU9FcFv+blNL8MEBctLW/cl7oxKeNym4wj+0YGPu4Qf4AAAAjAGe\n",
              "o2pCPwAAhxT19DR8iQAjcDCy5wRN7E2nuBgmDxJJ76sIMTdU4Ye+TdDVaZ8P1QlY+pA5WInpjUFi\n",
              "j3ede7OXejeZ1MDMULCMwxkPlxSOqetDvsIYWwkHwDgVb4WFBEUZKr1bMGbLwJsra9+nTf4blz8+\n",
              "JdOCYfJgcGx0aG/I+OkqBlFb+en4AN6BAAAAdUGap0nhClJlMCGf/p4QAAAdz2NGln2nGsM5FSfx\n",
              "4utSneANAwHungeS2yPAAGRbRA3zr/Fwu+U1rkJzvIWMxlqNpwFdu3r9zz87+be3fMvlYiPqFIyI\n",
              "1W8q2x2+TpDWRWM4NzMY4ltZGWLv4uEwbaA3TVCFsQAAAKJBnsVFNEwn/wAAcWeVOdwOWRiAFedU\n",
              "M/4s5BKyxcZKJwdoqvuj0Gv4i376mCMmAr+bvk/pqsitgm2Z6IvNoZCA0HgnNH84So3lQu7Alr+J\n",
              "BvhQuAKS9574q03Jx7BZ52lRImBoZiDEm7oYoLIfylOunmv8HhukQ7aMnJhrYI5sotrzAsNP4nWJ\n",
              "E4Bgqcrja8Oast2n2O0DFhR2dgWmL88AMeEAAACbAZ7makI/AAAJbp4yrACWtzkWcRoXkcWmLu6+\n",
              "kEZm06SqYMwRBKxtCJA72v8BiDgr1VNSguthjbCgXNUk+VkLm+R8c8Jc25x6+N8km3slab9QfS6f\n",
              "j++08i/NqZaNzAO/Iuxwi2ekLeDihRcJDQK+RJeEcUKfZ100zVqdRlR9eOP0bna49JB5KEAzO1uP\n",
              "g88MJueoQtQaV0eADpkAAACAQZrqSahBaJlMCGf//p4QAAAdH2NQ3b9SYIM0oyv7+z9fZVkq0ibq\n",
              "1flgH/zompiv3AxdkfWUAF8zAmSjXgGczfcRaU6efJL1ge2/5zKHK9Ir78yTygZDsHZ9FFmKYM4W\n",
              "F5dN9dT9nlK261NQKYV9YodlMRGEmSUua3YArhtAoIAAAABdQZ8IRREsJ/8AAHFvc1c4W4zEhH6I\n",
              "gGjqlBBB5kWqalYN2MXPVIVOGVo9HB3kztKf+yPKlkBZupY/HPTMfo9v7Ch4eERBqAeg4eRL1f8F\n",
              "MQxgA9OzcvfHPy8BcAGfAAAAiQGfKWpCPwAACS6eMqwAjTFGWW6+lJIy6djC01FwkC5h8O9S1Hmx\n",
              "832a4G63tcLXfAOa0Kc4a6d2wAhg3iwsOhW2ezouTP6LoU8PN5trPSE65SoeUaX7gtMVB6IJITBr\n",
              "h7L7lSLVTzD4tjCWz73tZZaf8Iu4AtRsP81MMKhJmpZI+2DlTYc2gMWBAAAApkGbLUmoQWyZTAhn\n",
              "//6eEAAAHG4TnxVjKyAEUusHvx0HWR64RdAH4FB3nZHq9aqiDKuwj7bcAPs5MGWu1TFlC+HJ19sD\n",
              "pGx3b+hGLfdePA4zOF6huKDa2FNGKFhzZSN5/d33rw2GiOVka75xf1gc4GGkNdEYbPULGv4zTXZw\n",
              "7bvs5PMY9fmXrEFn8zhtUwgZ4FUYOAuuDxPL/0LenuRTlzdhSMrFApIAAACHQZ9LRRUsJ/8AAHFv\n",
              "c1SWukz6b5J27LPtyWmhipbcJRi5ktvCH1jgTwyp32fzVIJI85gCnxlUUhZ4IlFyRPTV0hJ6+Ngq\n",
              "GdHei7RPxA/i511JO1UdCxpLZLFnNkx1p4STTeyX1EjBrQI3X7QpLmB+7z7KeeuyKNK3GX+jmWp+\n",
              "tADEg3CPACpgAAAAoQGfbGpCPwAACSv4iSBGqBKIAE74kTA07KWc9wMm0HchVkTM3qemTDxaWynC\n",
              "GAtxkisHmBKo3XqqRPmN9ptebIqyj8NXlad+9ylQ49Fqky4olkUYsXS5CL91gxLzV+skQO29myCp\n",
              "8Gwo+lyMb057B478IQVruLnkDq74zW00oqJppuXGoL61zDPn+9hfqyY0N1E4fOxj6h+RNVxiEuo+\n",
              "tgI/AAAAfUGbcUmoQWyZTAhn//6eEAAAG5t42cCAtiAIkiQE+xt4qk32qwtaNRXmwSlHPf7BH2kS\n",
              "xhQvP5WGkHT5Jwa3tnoa6E2+WY8yBO6K9yq5r5Ykd00Jy8TzrOn0BUzAQxy1rD11PFOdoFPmzd1+\n",
              "yEKLsuM2O0bGfNYh6Toibh3RAAAAlUGfj0UVLCf/AABxb3NR/BK58FABOQq2xCFAAeWm52vGNXAx\n",
              "7nbHkOPUcRC7Gmb5LaQYoY29MhZzCakqbUgx9nOR2RiAuaryf5jaCidCDV9fggEllD+AjRkqZfLc\n",
              "h5ZgTZMoEhabQL7Nkf57r1fUFqh6MdkZxTt0fY9jg6zjHLvz6tm7GnhMeY7uyWGEd825w3FeAAdd\n",
              "AAAAVQGfrnRCPwAACOpdnh7gLtbrkKekSRyj6eMaWc4JlSdaRDFtiBcQAmlSNExByMkasjIXQoK2\n",
              "hEiCIerFt02vIThRZmBuvByKQ9h/LqiabG5K6ZpAd0AAAACVAZ+wakI/AAAIrptPymR2gAS1CLf7\n",
              "6AVIyQHXapBcx4AO5bGxucaai2lQU8Y9Bj2Frx2Y57RkShNKcwYv0mpsz/PR0frR33UObThiGqJv\n",
              "HslqAP6EmhKrB9tTpezLI+3ir3CBk3MwWuzNt2gFX7W2l5ft00TYJylD/SfanLa6bg8T20M34gZj\n",
              "+mu+QPbX4nRex3qAEzAAAACmQZu0SahBbJlMCGf//p4QAAAbH1EbS0DpKg+1qlJjpwIYOQjnwm3q\n",
              "EPy7YuxvqAt78yHNyC3nvbzvigRe82qZQeoP/J4THXnhRf/gLMpHoIyLFlI9yShIvkfrLiIbvThM\n",
              "31prOZiUUVCeTXe/2j7WPV3ziFyAzEl9jnCUviCH2btUwKtXqmO/NqPOsOtWXZ8Cxy0YS2D8s1aX\n",
              "WDlzL6I9PEpwRYQj4QAAAHNBn9JFFSwn/wAAcW9zT4MIgoVnnTcDdiVCYbY99T/7Zbzh5BSAsLhy\n",
              "c1UxahFsUghJ2KKdgTjse6wf5IKpwtlWR9v5FCoKVoIUKfOn2S+sns9gRZGIdHNPIv/5yBBl3wFR\n",
              "gzua2ox4yaHK7BzXp+iWIAlYAAAAWwGf82pCPwAACKv/P2NdA9rQMLMQl8KGoUsDfMvEmPDOYp6S\n",
              "QZgK46Mce9qW6f0XN7YlCVMnQ2RQA41lNaV8CfUhnSn7lsndH9oN9OZO1PR7WtFXSxMpWURZH+AA\n",
              "AAB5QZv2SahBbJlMFEwz//6eEAAAGn4TnWpYnIAQaydai/ydSyefM1zby2S90D9XO5T41UeBQwnr\n",
              "ZMGWu1SOiR6QYCBka7qveCg6+hRP1XWVpTL7D/T5R6rkCf41xNK07ah19NKZPkEamlljOF/VhNuA\n",
              "9J4qSI822vQdUQAAAGQBnhVqQj8AAIcU9dhxEGgZzb0FCXPjpyqX04goP+LxGQOATcvbKgAnDS6r\n",
              "X/dic2JhjvS//gM4aBxkpQJgIV/h25FD3fBUY/BzU8yVn12SsMulB3LDMTKAKeGubQExsMyIAF3A\n",
              "AAAAZkGaGUnhClJlMCGf/p4QAAAZtfavDVb35MapBxKjJ2R5rlgIw2KwGd6S+DD+yjjgIA+9Q5+1\n",
              "hcw1mYCe9iq4G1wBDNaZk/VDj3InOaQqAJ7xgB5QAwz3b+AcjBDDz4yD/6V1NxsHgQAAAJBBnjdF\n",
              "NEwn/wAAcWeVMilVlbp4bvW37TJ1tAoYqn38I8A7JvPn7TEuqWF2q2DfSWYWCMGX2P+cd0ACH6ZE\n",
              "50dykgkA04IWbMrqdwWWeI8xpUshXdFxf9dUcr3Rs5c8h2W2Exd7XbrzvLkI/pUdtjRIWGX6Wbix\n",
              "Q+9lbjM+WWkhrphVyvz8DvMe4eukymOQAZUAAABjAZ5YakI/AAAIKvBl/4T/vCQYptPYw0hY5/MS\n",
              "myA7Pa3QAJjK7artyskk4asqlqozW9n80c2dqTO1/eRMjjfnWbWvtvJk4+H+z3J0CKNAAsNibiNy\n",
              "T+cgNI8+1eYyB25jIAGBAAAAk0GaXEmoQWiZTAhf//6MsAAAGq9btzjN61VcoOejJS1hpQJPSfcd\n",
              "GWaY3XrLHfWcACcd52bBwP8zRp5xAxfh/y6a0CervSu/cYjg1i2srKt5A37Jz64uulRz4IvOG4e9\n",
              "oLvWCp8PsfysvQ3XKZXfzC46t+fOEuVfZXRuhHcZ53MdxR3u7Ac79XoefQV8aTT7g0+m4QAAAGNB\n",
              "nnpFESwn/wAAcW9zTPvfgT9wWS2d98w8tzw55v1Mt72B1EBLsJbbguVkJ3lxqa47Rn+Lgpp9VzOc\n",
              "eFCnx+SUjP3TusnNncpypIkryZZGSgEtRFlQcUG0BHn1rtbggj4AO6AAAAB0AZ6bakI/AAAH7x2w\n",
              "OHLuKRSvYLQUvHLkPzxMtJvwhJSboqsrXlmMnb1dtfgATlWmskwmxNsB7SVkcb86zaPxUXAhETJ0\n",
              "4V/yfPmzGwuSStoLleWZC+mV3Gv2oG7Tus/HcOZWocQ+/6mHR/KUvWnFgcSADpkAAAB1QZqdSahB\n",
              "bJlMCGf//p4QAAAZPhOe3wiRoAWPQAoO87I9XrVUQZV2EfbbgB9nJgy12qRF44UUorPB60tgBQ9B\n",
              "uZPXRUPwzgDOPoD+wLGjASTe0aMfKlb3Nd3Oid962+tcYdJAWyy2cV5YlMXwgp3EIEh/dxBxAAAA\n",
              "T0GaoUnhClJlMCF//oywAAAYzhOe7J1aS38O50sJr0blsFP0A8PFCfFiVGHqNhON/K3uV8Mu8dX+\n",
              "GdGgELsjZhCYJA6DSHDkgmjHuyIwXK4AAAEXQZ7fRTRMJ/8AAHFnlS35JvuAAWz7Kwqd2p0gtut2\n",
              "MfkX7xhpf/oRceYBO7hMpkV6FsPLAZCdf+xWw9V/eEz6/BvSIFwycSvbyz18iT8KlGjxOZ+SL//1\n",
              "exu2sBmaA6BOx4UodOwx1KxHk6WzGv62DztvAItmRjs1zHgkrZQuulZVb1zs3eqXiUttDubtVxsb\n",
              "Nu5cRbYN4gFQvbGJm4QFiKnRGmhTsQLeR/3y8w8lIlImkBApdjoTZqv+kyDhXYT0oFiR10TKhfdD\n",
              "rQNHlsHhwaBeWmSDa8kX0YWourLXDqCsvj9bW+w+SzNXeVhobjFawGpbu175J7mKXGaFaErJPLkg\n",
              "T7kL5LVddRfQAnppugRwdeG6AGVAAAAAYgGe/nRCPwAAB8Kx2MQP8CgBM9XbRyi9pa3Rg7VEIINy\n",
              "7hHX35sZsZjT9NW2TghRQpU8VVJFSHcleCvla7uEH4ZgebQiFieYZxA6M6KtWZjSVvty/tKPtt8Z\n",
              "wfP4HBZbWIy5AAAAhwGe4GpCPwAAB8P4zjh83EvzFaKBkNOqDSZIsbcsWFZSKXx/zLmZQ2R1hwAA\n",
              "TrQ8U+T80ZHcTAMrIGbUH3fX+w0ZfDeXWnqJKkNciQX2CzeutBQnSKTuRJvyvz07vidaYfFJORXh\n",
              "wu4H3uD/KuPgtasKBBg2jHCEWKiUUZVO+Rqh+xcETADugAAAAGxBmuVJqEFomUwIV//+OEAAAF15\n",
              "PreBOqT3oMY63hNKeRx/7X//TbbzZ0dy4aPkAacV4BYHHUWAT0ogA2vjqgs5JHmoeWrftXPWpmR2\n",
              "M4pXQ4IhQpD4Isfx4KlcRr34wVsiDLFm/sYNv0oQLaEAAABXQZ8DRREsJ/8AAHFvc0MjM+ncWxBF\n",
              "Cw2SP5s8WLaaypha9wcXPKgyQDrUelzeQWwJrMJEbnYTEoNo4DsZEKqry0FuFtv4aMqeWf7gYvH+\n",
              "QGkKIBCsAEfAAAAAkQGfInRCPwAAB5oiAIwAjcDCzzmQJvCrEINOhy2DJarPyY0cNgRe4kvOCRf0\n",
              "IjMHqGkUHGeCxHbuiRBQuM/zxtrRT0pAHz5ZHUEMsWwZOrszwVz70g7Eaoln0LQ+qSxeUCagEEvL\n",
              "1iEnNRAQRoQeolcb+SOLLeYy3ssLFpkiBysaOEA5abMvwqDbLZYa8n4AY0EAAACHAZ8kakI/AAAH\n",
              "l/07XAx1CjFyx/GKdsHui2zOTFusWRpJ+zEL+cfO9j+BS24gPU6oAO3zBHEOst0/v4ElLpscI5VZ\n",
              "wzAunpKrzkEW6HUi2wjMNLvLU3zMi87GbCr2ONGc/cnfUOWwvGDLpfYGiPAGujnvpcLk3TlF2Gv4\n",
              "/zRWreGd7q1nIBNxAAAAWEGbJ0moQWyZTBRMI//94QAAAwFj9apqTULM+zN1w06RDD20Lp1OX3Z1\n",
              "SDeLGhBZB/OObbFh25wrpPqGGbQ/27qAtcIUUp0TfoL1IIGA2M5vq4pp9Q/Yy6sAAABxAZ9GakI/\n",
              "AACHFPW+ZTS1RL9sBIkpS3S8zyNfY4/Fr4MAE5IAH7pBYLZBtEY+6y/4Fvzhq39rRPykdI/A/gjB\n",
              "s3IFL+ahNpMWuz4c2iPX/qBJZ+NVwzKvGxah/bnXLcMhQlQawf5ALkKP4bT5SaAAIuEAAAt7bW9v\n",
              "dgAAAGxtdmhkAAAAAAAAAAAAAAAAAAAD6AAAE4gAAQAAAQAAAAAAAAAAAAAAAAEAAAAAAAAAAAAA\n",
              "AAAAAAABAAAAAAAAAAAAAAAAAABAAAAAAAAAAAAAAAAAAAAAAAAAAAAAAAAAAAAAAAAAAgAACqV0\n",
              "cmFrAAAAXHRraGQAAAADAAAAAAAAAAAAAAABAAAAAAAAE4gAAAAAAAAAAAAAAAAAAAAAAAEAAAAA\n",
              "AAAAAAAAAAAAAAABAAAAAAAAAAAAAAAAAABAAAAABLAAAAK8AAAAAAAkZWR0cwAAABxlbHN0AAAA\n",
              "AAAAAAEAABOIAAACAAABAAAAAAodbWRpYQAAACBtZGhkAAAAAAAAAAAAAAAAAAAoAAAAyABVxAAA\n",
              "AAAALWhkbHIAAAAAAAAAAHZpZGUAAAAAAAAAAAAAAABWaWRlb0hhbmRsZXIAAAAJyG1pbmYAAAAU\n",
              "dm1oZAAAAAEAAAAAAAAAAAAAACRkaW5mAAAAHGRyZWYAAAAAAAAAAQAAAAx1cmwgAAAAAQAACYhz\n",
              "dGJsAAAAuHN0c2QAAAAAAAAAAQAAAKhhdmMxAAAAAAAAAAEAAAAAAAAAAAAAAAAAAAAABLACvABI\n",
              "AAAASAAAAAAAAAABAAAAAAAAAAAAAAAAAAAAAAAAAAAAAAAAAAAAAAAAAAAAGP//AAAANmF2Y0MB\n",
              "ZAAg/+EAGWdkACCs2UBLBZ+4QAAAAwBAAAAUA8YMZYABAAZo6+PLIsD9+PgAAAAAHHV1aWRraEDy\n",
              "XyRPxbo5pRvPAyPzAAAAAAAAABhzdHRzAAAAAAAAAAEAAADIAAABAAAAABRzdHNzAAAAAAAAAAEA\n",
              "AAABAAAFOGN0dHMAAAAAAAAApQAAAAQAAAIAAAAAAQAAAwAAAAABAAABAAAAAAEAAAIAAAAAAQAA\n",
              "BAAAAAACAAABAAAAAAEAAAIAAAAAAQAABQAAAAABAAACAAAAAAEAAAAAAAAAAQAAAQAAAAABAAAE\n",
              "AAAAAAIAAAEAAAAAAQAABQAAAAABAAACAAAAAAEAAAAAAAAAAQAAAQAAAAABAAAFAAAAAAEAAAIA\n",
              "AAAAAQAAAAAAAAABAAABAAAAAAEAAAUAAAAAAQAAAgAAAAABAAAAAAAAAAEAAAEAAAAAAQAABAAA\n",
              "AAACAAABAAAAAAEAAAMAAAAAAQAAAQAAAAABAAAEAAAAAAIAAAEAAAAAAQAABAAAAAACAAABAAAA\n",
              "AAEAAAMAAAAAAQAAAQAAAAABAAADAAAAAAEAAAEAAAAAAQAABQAAAAABAAACAAAAAAEAAAAAAAAA\n",
              "AQAAAQAAAAABAAACAAAAAAEAAAMAAAAAAQAAAQAAAAABAAAFAAAAAAEAAAIAAAAAAQAAAAAAAAAB\n",
              "AAABAAAAAAEAAAUAAAAAAQAAAgAAAAABAAAAAAAAAAEAAAEAAAAAAQAABQAAAAABAAACAAAAAAEA\n",
              "AAAAAAAAAQAAAQAAAAABAAAFAAAAAAEAAAIAAAAAAQAAAAAAAAABAAABAAAAAAEAAAQAAAAAAgAA\n",
              "AQAAAAABAAAFAAAAAAEAAAIAAAAAAQAAAAAAAAABAAABAAAAAAEAAAQAAAAAAgAAAQAAAAAFAAAC\n",
              "AAAAAAEAAAUAAAAAAQAAAgAAAAABAAAAAAAAAAEAAAEAAAAAAQAABQAAAAABAAACAAAAAAEAAAAA\n",
              "AAAAAQAAAQAAAAABAAAEAAAAAAIAAAEAAAAAAQAABQAAAAABAAACAAAAAAEAAAAAAAAAAQAAAQAA\n",
              "AAABAAADAAAAAAEAAAEAAAAAAQAABAAAAAACAAABAAAAAAEAAAQAAAAAAgAAAQAAAAACAAACAAAA\n",
              "AAEAAAQAAAAAAgAAAQAAAAABAAAFAAAAAAEAAAIAAAAAAQAAAAAAAAABAAABAAAAAAEAAAUAAAAA\n",
              "AQAAAgAAAAABAAAAAAAAAAEAAAEAAAAABQAAAgAAAAABAAAFAAAAAAEAAAIAAAAAAQAAAAAAAAAB\n",
              "AAABAAAAAAEAAAQAAAAAAgAAAQAAAAABAAAFAAAAAAEAAAIAAAAAAQAAAAAAAAABAAABAAAAAAEA\n",
              "AAUAAAAAAQAAAgAAAAABAAAAAAAAAAEAAAEAAAAAAQAABQAAAAABAAACAAAAAAEAAAAAAAAAAQAA\n",
              "AQAAAAABAAAFAAAAAAEAAAIAAAAAAQAAAAAAAAABAAABAAAAAAEAAAQAAAAAAgAAAQAAAAABAAAF\n",
              "AAAAAAEAAAIAAAAAAQAAAAAAAAABAAABAAAAAAEAAAQAAAAAAgAAAQAAAAADAAACAAAAAAEAAAQA\n",
              "AAAAAgAAAQAAAAABAAADAAAAAAEAAAEAAAAAAQAABAAAAAACAAABAAAAAAEAAAQAAAAAAgAAAQAA\n",
              "AAABAAAEAAAAAAIAAAEAAAAAAQAABQAAAAABAAACAAAAAAEAAAAAAAAAAQAAAQAAAAABAAAEAAAA\n",
              "AAIAAAEAAAAAAQAAAwAAAAABAAABAAAAAAEAAAQAAAAAAgAAAQAAAAABAAAEAAAAAAIAAAEAAAAA\n",
              "AQAAAgAAAAABAAAFAAAAAAEAAAIAAAAAAQAAAAAAAAABAAABAAAAAAEAAAUAAAAAAQAAAgAAAAAB\n",
              "AAAAAAAAAAEAAAEAAAAAAQAAAwAAAAABAAABAAAAABxzdHNjAAAAAAAAAAEAAAABAAAAyAAAAAEA\n",
              "AAM0c3RzegAAAAAAAAAAAAAAyAAAEzUAAALzAAADUwAAAh4AAADlAAAAhgAAAMMAAACdAAAAhgAA\n",
              "AJoAAACjAAAAdAAAAYcAAAB3AAAAfgAAAHYAAACdAAAAxQAAALIAAAEhAAAAdAAAAIwAAACEAAAA\n",
              "fQAAAHoAAACPAAAAZgAAAH8AAABeAAAAigAAAKwAAAC7AAAAeQAAAHsAAAB1AAAAVgAAAIAAAACf\n",
              "AAAA9wAAAHQAAAB+AAAAvAAAAJQAAAC/AAAAyAAAAHkAAACcAAAAeQAAAI4AAABEAAAAbwAAAGsA\n",
              "AAC+AAAAjgAAAIQAAABhAAAAVgAAAF0AAACaAAAAdQAAAF0AAABkAAAAkAAAAH0AAACZAAAAdQAA\n",
              "AIwAAAByAAAAaAAAAI4AAAB9AAAAfgAAAFsAAACFAAAAbAAAAIQAAABfAAAAggAAAGgAAABzAAAA\n",
              "uAAAAKoAAAB3AAAAugAAAHoAAABrAAAAbgAAAH8AAABKAAAAfQAAAIwAAAClAAAAgQAAAFsAAABt\n",
              "AAAA4gAAAHgAAACSAAAAiAAAAG0AAAB7AAAAmgAAAG0AAACTAAAAhAAAAIUAAABgAAAAVwAAAHAA\n",
              "AACkAAAAVgAAAGYAAABSAAAAcwAAAHEAAAByAAAAUgAAAIEAAACdAAAAlwAAAKcAAACqAAAAiwAA\n",
              "AMwAAADVAAAAewAAAI4AAACgAAAAfQAAAKAAAADPAAAAcQAAAKYAAABqAAAArgAAAKsAAABmAAAA\n",
              "iAAAAH8AAACOAAAAUgAAAIMAAACHAAAAeAAAALAAAABnAAAAfgAAAIUAAAEWAAAAhwAAAHcAAABt\n",
              "AAAAsAAAAJ4AAACbAAAAsQAAAHwAAABnAAAAeQAAAIAAAADFAAAAtQAAAHMAAAC/AAAAkAAAAHkA\n",
              "AACmAAAAnwAAAIQAAABhAAAAjQAAAKoAAACLAAAApQAAAIEAAACZAAAAWQAAAJkAAACqAAAAdwAA\n",
              "AF8AAAB9AAAAaAAAAGoAAACUAAAAZwAAAJcAAABnAAAAeAAAAHkAAABTAAABGwAAAGYAAACLAAAA\n",
              "cAAAAFsAAACVAAAAiwAAAFwAAAB1AAAAFHN0Y28AAAAAAAAAAQAAADAAAABidWR0YQAAAFptZXRh\n",
              "AAAAAAAAACFoZGxyAAAAAAAAAABtZGlyYXBwbAAAAAAAAAAAAAAAAC1pbHN0AAAAJal0b28AAAAd\n",
              "ZGF0YQAAAAEAAAAATGF2ZjU4Ljc2LjEwMA==\n",
              "\">\n",
              "  Your browser does not support the video tag.\n",
              "</video>"
            ]
          },
          "metadata": {},
          "execution_count": 30
        },
        {
          "output_type": "display_data",
          "data": {
            "text/plain": [
              "<Figure size 1200x700 with 1 Axes>"
            ],
            "image/png": "[encoded data removed]"
          },
          "metadata": {}
        }
      ]
    },
    {
      "cell_type": "code",
      "source": [],
      "metadata": {
        "id": "dzRxYVVmG1Kt"
      },
      "execution_count": null,
      "outputs": []
    }
  ]
}